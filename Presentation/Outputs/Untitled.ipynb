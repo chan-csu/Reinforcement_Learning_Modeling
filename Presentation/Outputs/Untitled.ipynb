{
 "cells": [
  {
   "cell_type": "code",
   "execution_count": 43,
   "id": "b17271e1",
   "metadata": {},
   "outputs": [],
   "source": [
    "import pickle\n",
    "import numpy as np\n",
    "from dataclasses import dataclass,field\n",
    "@dataclass\n",
    "class Feature_Vector:\n",
    "    Number_of_tiles: int =10\n",
    "    Number_of_Tiling:int =10\n",
    "    State_Dimensions: int=2\n",
    "    State_Ranges:list= field(default_factory=lambda:[[2,2],[1,1]])\n",
    "    Number_of_actions:int=3\n",
    "    \n",
    "    def __post_init__(self):\n",
    "        \n",
    "        self._Empty_Feature_vect=np.zeros((self.State_Dimensions,self.Number_of_Tiling,self.Number_of_tiles,self.Number_of_actions))\n",
    "        self.Shift_Vect=[(i[1]-i[0])/self.Number_of_tiles/self.Number_of_Tiling for i in self.State_Ranges]\n",
    "        self._Base_Shift_Vect=np.array([2*i+1 for i in range(self.Number_of_Tiling)]) \n",
    "        Temp=np.ndarray((self.State_Dimensions,self.Number_of_Tiling,self.Number_of_tiles-1),dtype=float)\n",
    "        for i in range(self.State_Dimensions):\n",
    "            for j in range(self.Number_of_Tiling):\n",
    "                Temp[i,j,:]=np.linspace(self.State_Ranges[i][0]+self._Base_Shift_Vect[j]*(i+1)*self.Shift_Vect[i],self.State_Ranges[i][1]+self._Base_Shift_Vect[j]*(i+1)*self.Shift_Vect[i],num=self.Number_of_tiles-1)\n",
    "        self.bin=Temp.copy()\n",
    "    \n",
    "    def Get_Feature_Vector(self,State_Action):\n",
    "        Index=np.zeros((self.State_Dimensions*self.Number_of_Tiling,4),dtype=int)\n",
    "        Index[...,-1]=State_Action[1]\n",
    "        Index[...,1]=np.tile(np.arange(self.Number_of_Tiling),self.State_Dimensions)\n",
    "        Index[...,0]=np.repeat(range(self.State_Dimensions),self.Number_of_Tiling)\n",
    "        Index[...,2]=np.hstack(np.sum(np.subtract(self.bin,np.array(State_Action[0])[:,np.newaxis,np.newaxis])<0,axis=2))        \n",
    "        return tuple(Index.T)\n"
   ]
  },
  {
   "cell_type": "code",
   "execution_count": 44,
   "id": "bad52182",
   "metadata": {},
   "outputs": [],
   "source": [
    "with open(\"Sim_Res_2_A\",'rb') as f:\n",
    "    Results=pickle.load(f)"
   ]
  },
  {
   "cell_type": "code",
   "execution_count": 48,
   "id": "5c345f02",
   "metadata": {},
   "outputs": [],
   "source": [
    "Extract=np.zeros((10,10,10,10,10))\n"
   ]
  },
  {
   "cell_type": "code",
   "execution_count": 137,
   "id": "b2bbee26",
   "metadata": {},
   "outputs": [
    {
     "name": "stdout",
     "output_type": "stream",
     "text": [
      "0\n",
      "1\n",
      "2\n",
      "3\n",
      "4\n",
      "5\n",
      "6\n",
      "7\n",
      "8\n",
      "9\n"
     ]
    }
   ],
   "source": [
    "TD={\"Agent1\":[],\n",
    "   \"Agent2\":[],\n",
    "    \"Glucose\":[],\n",
    "    \"Starch\":[],\n",
    "    \"Action\":[],\n",
    "    \"Value\":[]\n",
    "    \n",
    "   }\n",
    "for i in range(Extract.shape[0]):\n",
    "    print(i)\n",
    "    for j in range(Extract.shape[1]):\n",
    "        for k in range(Extract.shape[2]):\n",
    "            for l in range(Extract.shape[3]):\n",
    "                for m in range(Extract.shape[4]):\n",
    "                    TD[\"Agent1\"].append(np.linspace(0,1000,10)[i])\n",
    "                    TD[\"Agent2\"].append(np.linspace(0,1000,10)[j])\n",
    "                    TD[\"Glucose\"].append(np.linspace(0,200,10)[k])\n",
    "                    TD[\"Starch\"].append(np.linspace(0,10,10)[l])\n",
    "                    TD[\"Action\"].append(m)\n",
    "                    TD[\"Value\"].append(np.sum(Results[1][0][0].W[Results[1][0][0].Features.Get_Feature_Vector(((np.linspace(0,1000,10)[i],np.linspace(0,1000,10)[j],np.linspace(0,200,10)[k],np.linspace(0,10,10)[l]),m))]))\n",
    "                    \n"
   ]
  },
  {
   "cell_type": "code",
   "execution_count": 138,
   "id": "29bbc101",
   "metadata": {},
   "outputs": [],
   "source": [
    "import plotly.graph_objects as go\n",
    "import pandas as pd\n",
    "import matplotlib.pyplot as plt\n",
    "import seaborn as sns"
   ]
  },
  {
   "cell_type": "code",
   "execution_count": 139,
   "id": "f2be61c4",
   "metadata": {},
   "outputs": [],
   "source": [
    "Table=pd.DataFrame(TD)"
   ]
  },
  {
   "cell_type": "code",
   "execution_count": 140,
   "id": "9dc5a730",
   "metadata": {},
   "outputs": [
    {
     "data": {
      "text/plain": [
       "<AxesSubplot:>"
      ]
     },
     "execution_count": 140,
     "metadata": {},
     "output_type": "execute_result"
    },
    {
     "data": {
      "image/png": "[encoded data removed]",
      "text/plain": [
       "<Figure size 432x288 with 2 Axes>"
      ]
     },
     "metadata": {
      "needs_background": "light"
     },
     "output_type": "display_data"
    }
   ],
   "source": [
    "sns.heatmap(Table.corr())"
   ]
  },
  {
   "cell_type": "code",
   "execution_count": 141,
   "id": "093d561c",
   "metadata": {},
   "outputs": [],
   "source": [
    "import plotly.graph_objects as go"
   ]
  },
  {
   "cell_type": "code",
   "execution_count": null,
   "id": "c1a7019d",
   "metadata": {},
   "outputs": [],
   "source": []
  },
  {
   "cell_type": "code",
   "execution_count": 142,
   "id": "c252087e",
   "metadata": {},
   "outputs": [],
   "source": [
    "from sklearn.manifold import TSNE\n",
    "import plotly.express as px"
   ]
  },
  {
   "cell_type": "code",
   "execution_count": 143,
   "id": "2f8f18b8",
   "metadata": {},
   "outputs": [
    {
     "data": {
      "text/plain": [
       "<AxesSubplot:>"
      ]
     },
     "execution_count": 143,
     "metadata": {},
     "output_type": "execute_result"
    },
    {
     "data": {
      "image/png": "[encoded data removed]",
      "text/plain": [
       "<Figure size 432x288 with 2 Axes>"
      ]
     },
     "metadata": {
      "needs_background": "light"
     },
     "output_type": "display_data"
    }
   ],
   "source": [
    "sns.heatmap(Table[(Table[\"Glucose\"]==np.linspace(0,200,10)[9])&(Table[\"Starch\"]==np.linspace(0,10,10)[9])].iloc[:,[0,1,4,5]].corr())"
   ]
  },
  {
   "cell_type": "code",
   "execution_count": 144,
   "id": "ab720228",
   "metadata": {},
   "outputs": [
    {
     "data": {
      "text/plain": [
       "0.000000      10000\n",
       "22.222222     10000\n",
       "44.444444     10000\n",
       "66.666667     10000\n",
       "88.888889     10000\n",
       "111.111111    10000\n",
       "133.333333    10000\n",
       "155.555556    10000\n",
       "177.777778    10000\n",
       "200.000000    10000\n",
       "Name: Glucose, dtype: int64"
      ]
     },
     "execution_count": 144,
     "metadata": {},
     "output_type": "execute_result"
    }
   ],
   "source": [
    "Table[\"Glucose\"].value_counts()"
   ]
  },
  {
   "cell_type": "code",
   "execution_count": 191,
   "id": "45c1fa08",
   "metadata": {},
   "outputs": [],
   "source": [
    "T1=Table[(Table[\"Glucose\"]==np.linspace(0,200,10)[1])&(Table[\"Starch\"]==np.linspace(0,10,10)[7])]"
   ]
  },
  {
   "cell_type": "code",
   "execution_count": 200,
   "id": "4125a271",
   "metadata": {},
   "outputs": [
    {
     "name": "stderr",
     "output_type": "stream",
     "text": [
      "/var/folders/jk/fr50qn391k794svhntbw333c0000gn/T/ipykernel_73945/3502796145.py:1: FutureWarning:\n",
      "\n",
      "Indexing with multiple keys (implicitly converted to a tuple of keys) will be deprecated, use a list instead.\n",
      "\n"
     ]
    }
   ],
   "source": [
    "T2=T1.groupby([\"Agent1\",\"Agent2\"])['Action','Value'].max('Value').reset_index()"
   ]
  },
  {
   "cell_type": "code",
   "execution_count": 208,
   "id": "b0488865",
   "metadata": {},
   "outputs": [],
   "source": [
    "T4=Table.groupby([\"Agent1\",\"Agent2\"]).max('Value').reset_index()"
   ]
  },
  {
   "cell_type": "code",
   "execution_count": 210,
   "id": "72324a82",
   "metadata": {},
   "outputs": [
    {
     "data": {
      "text/plain": [
       "9    100\n",
       "Name: Action, dtype: int64"
      ]
     },
     "execution_count": 210,
     "metadata": {},
     "output_type": "execute_result"
    }
   ],
   "source": [
    "T4[\"Action\"].value_counts()"
   ]
  },
  {
   "cell_type": "code",
   "execution_count": 199,
   "id": "39490bec",
   "metadata": {},
   "outputs": [
    {
     "name": "stderr",
     "output_type": "stream",
     "text": [
      "/var/folders/jk/fr50qn391k794svhntbw333c0000gn/T/ipykernel_73945/888630819.py:1: FutureWarning:\n",
      "\n",
      "Indexing with multiple keys (implicitly converted to a tuple of keys) will be deprecated, use a list instead.\n",
      "\n"
     ]
    },
    {
     "data": {
      "text/html": [
       "<div>\n",
       "<style scoped>\n",
       "    .dataframe tbody tr th:only-of-type {\n",
       "        vertical-align: middle;\n",
       "    }\n",
       "\n",
       "    .dataframe tbody tr th {\n",
       "        vertical-align: top;\n",
       "    }\n",
       "\n",
       "    .dataframe thead th {\n",
       "        text-align: right;\n",
       "    }\n",
       "</style>\n",
       "<table border=\"1\" class=\"dataframe\">\n",
       "  <thead>\n",
       "    <tr style=\"text-align: right;\">\n",
       "      <th></th>\n",
       "      <th>Agent1</th>\n",
       "      <th>Agent2</th>\n",
       "      <th>Action</th>\n",
       "      <th>Value</th>\n",
       "    </tr>\n",
       "  </thead>\n",
       "  <tbody>\n",
       "    <tr>\n",
       "      <th>0</th>\n",
       "      <td>0.0</td>\n",
       "      <td>0.000000</td>\n",
       "      <td>9</td>\n",
       "      <td>176.841547</td>\n",
       "    </tr>\n",
       "    <tr>\n",
       "      <th>1</th>\n",
       "      <td>0.0</td>\n",
       "      <td>111.111111</td>\n",
       "      <td>9</td>\n",
       "      <td>73.525992</td>\n",
       "    </tr>\n",
       "    <tr>\n",
       "      <th>2</th>\n",
       "      <td>0.0</td>\n",
       "      <td>222.222222</td>\n",
       "      <td>9</td>\n",
       "      <td>66.578467</td>\n",
       "    </tr>\n",
       "    <tr>\n",
       "      <th>3</th>\n",
       "      <td>0.0</td>\n",
       "      <td>333.333333</td>\n",
       "      <td>9</td>\n",
       "      <td>109.579342</td>\n",
       "    </tr>\n",
       "    <tr>\n",
       "      <th>4</th>\n",
       "      <td>0.0</td>\n",
       "      <td>444.444444</td>\n",
       "      <td>9</td>\n",
       "      <td>120.214914</td>\n",
       "    </tr>\n",
       "    <tr>\n",
       "      <th>...</th>\n",
       "      <td>...</td>\n",
       "      <td>...</td>\n",
       "      <td>...</td>\n",
       "      <td>...</td>\n",
       "    </tr>\n",
       "    <tr>\n",
       "      <th>95</th>\n",
       "      <td>1000.0</td>\n",
       "      <td>555.555556</td>\n",
       "      <td>9</td>\n",
       "      <td>27.629003</td>\n",
       "    </tr>\n",
       "    <tr>\n",
       "      <th>96</th>\n",
       "      <td>1000.0</td>\n",
       "      <td>666.666667</td>\n",
       "      <td>9</td>\n",
       "      <td>28.798431</td>\n",
       "    </tr>\n",
       "    <tr>\n",
       "      <th>97</th>\n",
       "      <td>1000.0</td>\n",
       "      <td>777.777778</td>\n",
       "      <td>9</td>\n",
       "      <td>31.815828</td>\n",
       "    </tr>\n",
       "    <tr>\n",
       "      <th>98</th>\n",
       "      <td>1000.0</td>\n",
       "      <td>888.888889</td>\n",
       "      <td>9</td>\n",
       "      <td>27.454512</td>\n",
       "    </tr>\n",
       "    <tr>\n",
       "      <th>99</th>\n",
       "      <td>1000.0</td>\n",
       "      <td>1000.000000</td>\n",
       "      <td>9</td>\n",
       "      <td>27.723566</td>\n",
       "    </tr>\n",
       "  </tbody>\n",
       "</table>\n",
       "<p>100 rows × 4 columns</p>\n",
       "</div>"
      ],
      "text/plain": [
       "    Agent1       Agent2  Action       Value\n",
       "0      0.0     0.000000       9  176.841547\n",
       "1      0.0   111.111111       9   73.525992\n",
       "2      0.0   222.222222       9   66.578467\n",
       "3      0.0   333.333333       9  109.579342\n",
       "4      0.0   444.444444       9  120.214914\n",
       "..     ...          ...     ...         ...\n",
       "95  1000.0   555.555556       9   27.629003\n",
       "96  1000.0   666.666667       9   28.798431\n",
       "97  1000.0   777.777778       9   31.815828\n",
       "98  1000.0   888.888889       9   27.454512\n",
       "99  1000.0  1000.000000       9   27.723566\n",
       "\n",
       "[100 rows x 4 columns]"
      ]
     },
     "execution_count": 199,
     "metadata": {},
     "output_type": "execute_result"
    }
   ],
   "source": [
    "Table.groupby([\"Agent1\",\"Agent2\"])['Action','Value'].max('Value').reset_index()"
   ]
  },
  {
   "cell_type": "code",
   "execution_count": 188,
   "id": "1b849b99",
   "metadata": {},
   "outputs": [
    {
     "data": {
      "application/vnd.plotly.v1+json": {
       "config": {
        "plotlyServerURL": "https://plot.ly"
       },
       "data": [
        {
         "type": "surface",
         "x": [
          0,
          111.11111111111111,
          222.22222222222223,
          333.33333333333337,
          444.44444444444446,
          555.5555555555555,
          666.6666666666667,
          777.7777777777778,
          888.8888888888889,
          1000
         ],
         "y": [
          0,
          111.11111111111111,
          222.22222222222223,
          333.33333333333337,
          444.44444444444446,
          555.5555555555555,
          666.6666666666667,
          777.7777777777778,
          888.8888888888889,
          1000
         ],
         "z": [
          [
           89.85611932099641,
           -13.45943571066936,
           -20.40695995482995,
           22.59391476486969,
           33.229486581069594,
           25.78744629088692,
           26.07145394557238,
           24.374652494588275,
           24.371438810460596,
           24.3640970446643
          ],
          [
           -25.682567619611483,
           -64.18649609614683,
           -69.63635997924126,
           -57.866253916363405,
           -68.53638674819241,
           -67.46574469409812,
           -66.26904751054354,
           -65.92020247472027,
           -65.68217429553842,
           -65.63370531679578
          ],
          [
           -6.577525354742765,
           -66.40445139273565,
           -71.85431527583009,
           -60.08420921295223,
           -63.20415809466958,
           -69.68369999068695,
           -68.48700280713237,
           -68.1381577713091,
           -67.90012959212724,
           -67.85166061338461
          ],
          [
           -3.712494527401578,
           -53.360903475509716,
           -58.81076735860415,
           -47.04066129572629,
           -57.7107941275553,
           -56.64015207346101,
           -55.44345488990643,
           -55.09460985408316,
           -54.8565816749013,
           -54.80811269615867
          ],
          [
           4.03271906908207,
           -53.249540660250574,
           -58.69940454334501,
           -46.92929848046715,
           -52.593913670844756,
           -56.52878925820187,
           -55.332092074647285,
           -54.983247038824025,
           -54.745218859642165,
           -54.696749880899546
          ],
          [
           3.456984615128608,
           -56.88203620094361,
           -62.33190008403805,
           -50.56179402116019,
           -53.169648124798215,
           -60.16128479889492,
           -58.96458761534032,
           -58.61574257951706,
           -58.37771440033521,
           -58.32924542159258
          ],
          [
           -0.895426026241319,
           -55.39800320906605,
           -60.847867092160485,
           -49.07776102928263,
           -57.522058766168136,
           -58.67725180701735,
           -57.48055462346276,
           -57.13170958763949,
           -56.89368140845764,
           -56.845212429715005
          ],
          [
           1.311822155321666,
           -55.38598905122552,
           -60.83585293431996,
           -49.0657468714421,
           -55.314810584605155,
           -58.66523764917682,
           -57.46854046562223,
           -57.11969542979897,
           -56.88166725061711,
           -56.83319827187449
          ],
          [
           4.712248535402832,
           -53.82049769202173,
           -59.270361575116176,
           -47.50025551223832,
           -51.914384204523984,
           -57.09974628997304,
           -55.90304910641844,
           -55.55420407059519,
           -55.31617589141334,
           -55.267706912670704
          ],
          [
           4.712248535402832,
           -56.5304218174748,
           -61.98028570056925,
           -50.21017963769139,
           -51.914384204523984,
           -59.35642449470666,
           -58.61297323187152,
           -58.26412819604826,
           -58.02610001686641,
           -57.977631038123775
          ]
         ]
        }
       ],
       "layout": {
        "template": {
         "data": {
          "bar": [
           {
            "error_x": {
             "color": "#2a3f5f"
            },
            "error_y": {
             "color": "#2a3f5f"
            },
            "marker": {
             "line": {
              "color": "#E5ECF6",
              "width": 0.5
             },
             "pattern": {
              "fillmode": "overlay",
              "size": 10,
              "solidity": 0.2
             }
            },
            "type": "bar"
           }
          ],
          "barpolar": [
           {
            "marker": {
             "line": {
              "color": "#E5ECF6",
              "width": 0.5
             },
             "pattern": {
              "fillmode": "overlay",
              "size": 10,
              "solidity": 0.2
             }
            },
            "type": "barpolar"
           }
          ],
          "carpet": [
           {
            "aaxis": {
             "endlinecolor": "#2a3f5f",
             "gridcolor": "white",
             "linecolor": "white",
             "minorgridcolor": "white",
             "startlinecolor": "#2a3f5f"
            },
            "baxis": {
             "endlinecolor": "#2a3f5f",
             "gridcolor": "white",
             "linecolor": "white",
             "minorgridcolor": "white",
             "startlinecolor": "#2a3f5f"
            },
            "type": "carpet"
           }
          ],
          "choropleth": [
           {
            "colorbar": {
             "outlinewidth": 0,
             "ticks": ""
            },
            "type": "choropleth"
           }
          ],
          "contour": [
           {
            "colorbar": {
             "outlinewidth": 0,
             "ticks": ""
            },
            "colorscale": [
             [
              0,
              "#0d0887"
             ],
             [
              0.1111111111111111,
              "#46039f"
             ],
             [
              0.2222222222222222,
              "#7201a8"
             ],
             [
              0.3333333333333333,
              "#9c179e"
             ],
             [
              0.4444444444444444,
              "#bd3786"
             ],
             [
              0.5555555555555556,
              "#d8576b"
             ],
             [
              0.6666666666666666,
              "#ed7953"
             ],
             [
              0.7777777777777778,
              "#fb9f3a"
             ],
             [
              0.8888888888888888,
              "#fdca26"
             ],
             [
              1,
              "#f0f921"
             ]
            ],
            "type": "contour"
           }
          ],
          "contourcarpet": [
           {
            "colorbar": {
             "outlinewidth": 0,
             "ticks": ""
            },
            "type": "contourcarpet"
           }
          ],
          "heatmap": [
           {
            "colorbar": {
             "outlinewidth": 0,
             "ticks": ""
            },
            "colorscale": [
             [
              0,
              "#0d0887"
             ],
             [
              0.1111111111111111,
              "#46039f"
             ],
             [
              0.2222222222222222,
              "#7201a8"
             ],
             [
              0.3333333333333333,
              "#9c179e"
             ],
             [
              0.4444444444444444,
              "#bd3786"
             ],
             [
              0.5555555555555556,
              "#d8576b"
             ],
             [
              0.6666666666666666,
              "#ed7953"
             ],
             [
              0.7777777777777778,
              "#fb9f3a"
             ],
             [
              0.8888888888888888,
              "#fdca26"
             ],
             [
              1,
              "#f0f921"
             ]
            ],
            "type": "heatmap"
           }
          ],
          "heatmapgl": [
           {
            "colorbar": {
             "outlinewidth": 0,
             "ticks": ""
            },
            "colorscale": [
             [
              0,
              "#0d0887"
             ],
             [
              0.1111111111111111,
              "#46039f"
             ],
             [
              0.2222222222222222,
              "#7201a8"
             ],
             [
              0.3333333333333333,
              "#9c179e"
             ],
             [
              0.4444444444444444,
              "#bd3786"
             ],
             [
              0.5555555555555556,
              "#d8576b"
             ],
             [
              0.6666666666666666,
              "#ed7953"
             ],
             [
              0.7777777777777778,
              "#fb9f3a"
             ],
             [
              0.8888888888888888,
              "#fdca26"
             ],
             [
              1,
              "#f0f921"
             ]
            ],
            "type": "heatmapgl"
           }
          ],
          "histogram": [
           {
            "marker": {
             "pattern": {
              "fillmode": "overlay",
              "size": 10,
              "solidity": 0.2
             }
            },
            "type": "histogram"
           }
          ],
          "histogram2d": [
           {
            "colorbar": {
             "outlinewidth": 0,
             "ticks": ""
            },
            "colorscale": [
             [
              0,
              "#0d0887"
             ],
             [
              0.1111111111111111,
              "#46039f"
             ],
             [
              0.2222222222222222,
              "#7201a8"
             ],
             [
              0.3333333333333333,
              "#9c179e"
             ],
             [
              0.4444444444444444,
              "#bd3786"
             ],
             [
              0.5555555555555556,
              "#d8576b"
             ],
             [
              0.6666666666666666,
              "#ed7953"
             ],
             [
              0.7777777777777778,
              "#fb9f3a"
             ],
             [
              0.8888888888888888,
              "#fdca26"
             ],
             [
              1,
              "#f0f921"
             ]
            ],
            "type": "histogram2d"
           }
          ],
          "histogram2dcontour": [
           {
            "colorbar": {
             "outlinewidth": 0,
             "ticks": ""
            },
            "colorscale": [
             [
              0,
              "#0d0887"
             ],
             [
              0.1111111111111111,
              "#46039f"
             ],
             [
              0.2222222222222222,
              "#7201a8"
             ],
             [
              0.3333333333333333,
              "#9c179e"
             ],
             [
              0.4444444444444444,
              "#bd3786"
             ],
             [
              0.5555555555555556,
              "#d8576b"
             ],
             [
              0.6666666666666666,
              "#ed7953"
             ],
             [
              0.7777777777777778,
              "#fb9f3a"
             ],
             [
              0.8888888888888888,
              "#fdca26"
             ],
             [
              1,
              "#f0f921"
             ]
            ],
            "type": "histogram2dcontour"
           }
          ],
          "mesh3d": [
           {
            "colorbar": {
             "outlinewidth": 0,
             "ticks": ""
            },
            "type": "mesh3d"
           }
          ],
          "parcoords": [
           {
            "line": {
             "colorbar": {
              "outlinewidth": 0,
              "ticks": ""
             }
            },
            "type": "parcoords"
           }
          ],
          "pie": [
           {
            "automargin": true,
            "type": "pie"
           }
          ],
          "scatter": [
           {
            "fillpattern": {
             "fillmode": "overlay",
             "size": 10,
             "solidity": 0.2
            },
            "type": "scatter"
           }
          ],
          "scatter3d": [
           {
            "line": {
             "colorbar": {
              "outlinewidth": 0,
              "ticks": ""
             }
            },
            "marker": {
             "colorbar": {
              "outlinewidth": 0,
              "ticks": ""
             }
            },
            "type": "scatter3d"
           }
          ],
          "scattercarpet": [
           {
            "marker": {
             "colorbar": {
              "outlinewidth": 0,
              "ticks": ""
             }
            },
            "type": "scattercarpet"
           }
          ],
          "scattergeo": [
           {
            "marker": {
             "colorbar": {
              "outlinewidth": 0,
              "ticks": ""
             }
            },
            "type": "scattergeo"
           }
          ],
          "scattergl": [
           {
            "marker": {
             "colorbar": {
              "outlinewidth": 0,
              "ticks": ""
             }
            },
            "type": "scattergl"
           }
          ],
          "scattermapbox": [
           {
            "marker": {
             "colorbar": {
              "outlinewidth": 0,
              "ticks": ""
             }
            },
            "type": "scattermapbox"
           }
          ],
          "scatterpolar": [
           {
            "marker": {
             "colorbar": {
              "outlinewidth": 0,
              "ticks": ""
             }
            },
            "type": "scatterpolar"
           }
          ],
          "scatterpolargl": [
           {
            "marker": {
             "colorbar": {
              "outlinewidth": 0,
              "ticks": ""
             }
            },
            "type": "scatterpolargl"
           }
          ],
          "scatterternary": [
           {
            "marker": {
             "colorbar": {
              "outlinewidth": 0,
              "ticks": ""
             }
            },
            "type": "scatterternary"
           }
          ],
          "surface": [
           {
            "colorbar": {
             "outlinewidth": 0,
             "ticks": ""
            },
            "colorscale": [
             [
              0,
              "#0d0887"
             ],
             [
              0.1111111111111111,
              "#46039f"
             ],
             [
              0.2222222222222222,
              "#7201a8"
             ],
             [
              0.3333333333333333,
              "#9c179e"
             ],
             [
              0.4444444444444444,
              "#bd3786"
             ],
             [
              0.5555555555555556,
              "#d8576b"
             ],
             [
              0.6666666666666666,
              "#ed7953"
             ],
             [
              0.7777777777777778,
              "#fb9f3a"
             ],
             [
              0.8888888888888888,
              "#fdca26"
             ],
             [
              1,
              "#f0f921"
             ]
            ],
            "type": "surface"
           }
          ],
          "table": [
           {
            "cells": {
             "fill": {
              "color": "#EBF0F8"
             },
             "line": {
              "color": "white"
             }
            },
            "header": {
             "fill": {
              "color": "#C8D4E3"
             },
             "line": {
              "color": "white"
             }
            },
            "type": "table"
           }
          ]
         },
         "layout": {
          "annotationdefaults": {
           "arrowcolor": "#2a3f5f",
           "arrowhead": 0,
           "arrowwidth": 1
          },
          "autotypenumbers": "strict",
          "coloraxis": {
           "colorbar": {
            "outlinewidth": 0,
            "ticks": ""
           }
          },
          "colorscale": {
           "diverging": [
            [
             0,
             "#8e0152"
            ],
            [
             0.1,
             "#c51b7d"
            ],
            [
             0.2,
             "#de77ae"
            ],
            [
             0.3,
             "#f1b6da"
            ],
            [
             0.4,
             "#fde0ef"
            ],
            [
             0.5,
             "#f7f7f7"
            ],
            [
             0.6,
             "#e6f5d0"
            ],
            [
             0.7,
             "#b8e186"
            ],
            [
             0.8,
             "#7fbc41"
            ],
            [
             0.9,
             "#4d9221"
            ],
            [
             1,
             "#276419"
            ]
           ],
           "sequential": [
            [
             0,
             "#0d0887"
            ],
            [
             0.1111111111111111,
             "#46039f"
            ],
            [
             0.2222222222222222,
             "#7201a8"
            ],
            [
             0.3333333333333333,
             "#9c179e"
            ],
            [
             0.4444444444444444,
             "#bd3786"
            ],
            [
             0.5555555555555556,
             "#d8576b"
            ],
            [
             0.6666666666666666,
             "#ed7953"
            ],
            [
             0.7777777777777778,
             "#fb9f3a"
            ],
            [
             0.8888888888888888,
             "#fdca26"
            ],
            [
             1,
             "#f0f921"
            ]
           ],
           "sequentialminus": [
            [
             0,
             "#0d0887"
            ],
            [
             0.1111111111111111,
             "#46039f"
            ],
            [
             0.2222222222222222,
             "#7201a8"
            ],
            [
             0.3333333333333333,
             "#9c179e"
            ],
            [
             0.4444444444444444,
             "#bd3786"
            ],
            [
             0.5555555555555556,
             "#d8576b"
            ],
            [
             0.6666666666666666,
             "#ed7953"
            ],
            [
             0.7777777777777778,
             "#fb9f3a"
            ],
            [
             0.8888888888888888,
             "#fdca26"
            ],
            [
             1,
             "#f0f921"
            ]
           ]
          },
          "colorway": [
           "#636efa",
           "#EF553B",
           "#00cc96",
           "#ab63fa",
           "#FFA15A",
           "#19d3f3",
           "#FF6692",
           "#B6E880",
           "#FF97FF",
           "#FECB52"
          ],
          "font": {
           "color": "#2a3f5f"
          },
          "geo": {
           "bgcolor": "white",
           "lakecolor": "white",
           "landcolor": "#E5ECF6",
           "showlakes": true,
           "showland": true,
           "subunitcolor": "white"
          },
          "hoverlabel": {
           "align": "left"
          },
          "hovermode": "closest",
          "mapbox": {
           "style": "light"
          },
          "paper_bgcolor": "white",
          "plot_bgcolor": "#E5ECF6",
          "polar": {
           "angularaxis": {
            "gridcolor": "white",
            "linecolor": "white",
            "ticks": ""
           },
           "bgcolor": "#E5ECF6",
           "radialaxis": {
            "gridcolor": "white",
            "linecolor": "white",
            "ticks": ""
           }
          },
          "scene": {
           "xaxis": {
            "backgroundcolor": "#E5ECF6",
            "gridcolor": "white",
            "gridwidth": 2,
            "linecolor": "white",
            "showbackground": true,
            "ticks": "",
            "zerolinecolor": "white"
           },
           "yaxis": {
            "backgroundcolor": "#E5ECF6",
            "gridcolor": "white",
            "gridwidth": 2,
            "linecolor": "white",
            "showbackground": true,
            "ticks": "",
            "zerolinecolor": "white"
           },
           "zaxis": {
            "backgroundcolor": "#E5ECF6",
            "gridcolor": "white",
            "gridwidth": 2,
            "linecolor": "white",
            "showbackground": true,
            "ticks": "",
            "zerolinecolor": "white"
           }
          },
          "shapedefaults": {
           "line": {
            "color": "#2a3f5f"
           }
          },
          "ternary": {
           "aaxis": {
            "gridcolor": "white",
            "linecolor": "white",
            "ticks": ""
           },
           "baxis": {
            "gridcolor": "white",
            "linecolor": "white",
            "ticks": ""
           },
           "bgcolor": "#E5ECF6",
           "caxis": {
            "gridcolor": "white",
            "linecolor": "white",
            "ticks": ""
           }
          },
          "title": {
           "x": 0.05
          },
          "xaxis": {
           "automargin": true,
           "gridcolor": "white",
           "linecolor": "white",
           "ticks": "",
           "title": {
            "standoff": 15
           },
           "zerolinecolor": "white",
           "zerolinewidth": 2
          },
          "yaxis": {
           "automargin": true,
           "gridcolor": "white",
           "linecolor": "white",
           "ticks": "",
           "title": {
            "standoff": 15
           },
           "zerolinecolor": "white",
           "zerolinewidth": 2
          }
         }
        }
       }
      },
      "text/html": [
       "<div>                            <div id=\"a6d86c77-fbc0-466c-abf8-8e7ac5d5d59f\" class=\"plotly-graph-div\" style=\"height:525px; width:100%;\"></div>            <script type=\"text/javascript\">                require([\"plotly\"], function(Plotly) {                    window.PLOTLYENV=window.PLOTLYENV || {};                                    if (document.getElementById(\"a6d86c77-fbc0-466c-abf8-8e7ac5d5d59f\")) {                    Plotly.newPlot(                        \"a6d86c77-fbc0-466c-abf8-8e7ac5d5d59f\",                        [{\"x\":[0.0,111.11111111111111,222.22222222222223,333.33333333333337,444.44444444444446,555.5555555555555,666.6666666666667,777.7777777777778,888.8888888888889,1000.0],\"y\":[0.0,111.11111111111111,222.22222222222223,333.33333333333337,444.44444444444446,555.5555555555555,666.6666666666667,777.7777777777778,888.8888888888889,1000.0],\"z\":[[89.85611932099641,-13.45943571066936,-20.40695995482995,22.59391476486969,33.229486581069594,25.78744629088692,26.07145394557238,24.374652494588275,24.371438810460596,24.3640970446643],[-25.682567619611483,-64.18649609614683,-69.63635997924126,-57.866253916363405,-68.53638674819241,-67.46574469409812,-66.26904751054354,-65.92020247472027,-65.68217429553842,-65.63370531679578],[-6.577525354742765,-66.40445139273565,-71.85431527583009,-60.08420921295223,-63.20415809466958,-69.68369999068695,-68.48700280713237,-68.1381577713091,-67.90012959212724,-67.85166061338461],[-3.712494527401578,-53.360903475509716,-58.81076735860415,-47.04066129572629,-57.7107941275553,-56.64015207346101,-55.44345488990643,-55.09460985408316,-54.8565816749013,-54.80811269615867],[4.03271906908207,-53.249540660250574,-58.69940454334501,-46.92929848046715,-52.593913670844756,-56.52878925820187,-55.332092074647285,-54.983247038824025,-54.745218859642165,-54.696749880899546],[3.456984615128608,-56.88203620094361,-62.33190008403805,-50.56179402116019,-53.169648124798215,-60.16128479889492,-58.96458761534032,-58.61574257951706,-58.37771440033521,-58.32924542159258],[-0.895426026241319,-55.39800320906605,-60.847867092160485,-49.07776102928263,-57.522058766168136,-58.67725180701735,-57.48055462346276,-57.13170958763949,-56.89368140845764,-56.845212429715005],[1.311822155321666,-55.38598905122552,-60.83585293431996,-49.0657468714421,-55.314810584605155,-58.66523764917682,-57.46854046562223,-57.11969542979897,-56.88166725061711,-56.83319827187449],[4.712248535402832,-53.82049769202173,-59.270361575116176,-47.50025551223832,-51.914384204523984,-57.09974628997304,-55.90304910641844,-55.55420407059519,-55.31617589141334,-55.267706912670704],[4.712248535402832,-56.5304218174748,-61.98028570056925,-50.21017963769139,-51.914384204523984,-59.35642449470666,-58.61297323187152,-58.26412819604826,-58.02610001686641,-57.977631038123775]],\"type\":\"surface\"}],                        {\"template\":{\"data\":{\"histogram2dcontour\":[{\"type\":\"histogram2dcontour\",\"colorbar\":{\"outlinewidth\":0,\"ticks\":\"\"},\"colorscale\":[[0.0,\"#0d0887\"],[0.1111111111111111,\"#46039f\"],[0.2222222222222222,\"#7201a8\"],[0.3333333333333333,\"#9c179e\"],[0.4444444444444444,\"#bd3786\"],[0.5555555555555556,\"#d8576b\"],[0.6666666666666666,\"#ed7953\"],[0.7777777777777778,\"#fb9f3a\"],[0.8888888888888888,\"#fdca26\"],[1.0,\"#f0f921\"]]}],\"choropleth\":[{\"type\":\"choropleth\",\"colorbar\":{\"outlinewidth\":0,\"ticks\":\"\"}}],\"histogram2d\":[{\"type\":\"histogram2d\",\"colorbar\":{\"outlinewidth\":0,\"ticks\":\"\"},\"colorscale\":[[0.0,\"#0d0887\"],[0.1111111111111111,\"#46039f\"],[0.2222222222222222,\"#7201a8\"],[0.3333333333333333,\"#9c179e\"],[0.4444444444444444,\"#bd3786\"],[0.5555555555555556,\"#d8576b\"],[0.6666666666666666,\"#ed7953\"],[0.7777777777777778,\"#fb9f3a\"],[0.8888888888888888,\"#fdca26\"],[1.0,\"#f0f921\"]]}],\"heatmap\":[{\"type\":\"heatmap\",\"colorbar\":{\"outlinewidth\":0,\"ticks\":\"\"},\"colorscale\":[[0.0,\"#0d0887\"],[0.1111111111111111,\"#46039f\"],[0.2222222222222222,\"#7201a8\"],[0.3333333333333333,\"#9c179e\"],[0.4444444444444444,\"#bd3786\"],[0.5555555555555556,\"#d8576b\"],[0.6666666666666666,\"#ed7953\"],[0.7777777777777778,\"#fb9f3a\"],[0.8888888888888888,\"#fdca26\"],[1.0,\"#f0f921\"]]}],\"heatmapgl\":[{\"type\":\"heatmapgl\",\"colorbar\":{\"outlinewidth\":0,\"ticks\":\"\"},\"colorscale\":[[0.0,\"#0d0887\"],[0.1111111111111111,\"#46039f\"],[0.2222222222222222,\"#7201a8\"],[0.3333333333333333,\"#9c179e\"],[0.4444444444444444,\"#bd3786\"],[0.5555555555555556,\"#d8576b\"],[0.6666666666666666,\"#ed7953\"],[0.7777777777777778,\"#fb9f3a\"],[0.8888888888888888,\"#fdca26\"],[1.0,\"#f0f921\"]]}],\"contourcarpet\":[{\"type\":\"contourcarpet\",\"colorbar\":{\"outlinewidth\":0,\"ticks\":\"\"}}],\"contour\":[{\"type\":\"contour\",\"colorbar\":{\"outlinewidth\":0,\"ticks\":\"\"},\"colorscale\":[[0.0,\"#0d0887\"],[0.1111111111111111,\"#46039f\"],[0.2222222222222222,\"#7201a8\"],[0.3333333333333333,\"#9c179e\"],[0.4444444444444444,\"#bd3786\"],[0.5555555555555556,\"#d8576b\"],[0.6666666666666666,\"#ed7953\"],[0.7777777777777778,\"#fb9f3a\"],[0.8888888888888888,\"#fdca26\"],[1.0,\"#f0f921\"]]}],\"surface\":[{\"type\":\"surface\",\"colorbar\":{\"outlinewidth\":0,\"ticks\":\"\"},\"colorscale\":[[0.0,\"#0d0887\"],[0.1111111111111111,\"#46039f\"],[0.2222222222222222,\"#7201a8\"],[0.3333333333333333,\"#9c179e\"],[0.4444444444444444,\"#bd3786\"],[0.5555555555555556,\"#d8576b\"],[0.6666666666666666,\"#ed7953\"],[0.7777777777777778,\"#fb9f3a\"],[0.8888888888888888,\"#fdca26\"],[1.0,\"#f0f921\"]]}],\"mesh3d\":[{\"type\":\"mesh3d\",\"colorbar\":{\"outlinewidth\":0,\"ticks\":\"\"}}],\"scatter\":[{\"fillpattern\":{\"fillmode\":\"overlay\",\"size\":10,\"solidity\":0.2},\"type\":\"scatter\"}],\"parcoords\":[{\"type\":\"parcoords\",\"line\":{\"colorbar\":{\"outlinewidth\":0,\"ticks\":\"\"}}}],\"scatterpolargl\":[{\"type\":\"scatterpolargl\",\"marker\":{\"colorbar\":{\"outlinewidth\":0,\"ticks\":\"\"}}}],\"bar\":[{\"error_x\":{\"color\":\"#2a3f5f\"},\"error_y\":{\"color\":\"#2a3f5f\"},\"marker\":{\"line\":{\"color\":\"#E5ECF6\",\"width\":0.5},\"pattern\":{\"fillmode\":\"overlay\",\"size\":10,\"solidity\":0.2}},\"type\":\"bar\"}],\"scattergeo\":[{\"type\":\"scattergeo\",\"marker\":{\"colorbar\":{\"outlinewidth\":0,\"ticks\":\"\"}}}],\"scatterpolar\":[{\"type\":\"scatterpolar\",\"marker\":{\"colorbar\":{\"outlinewidth\":0,\"ticks\":\"\"}}}],\"histogram\":[{\"marker\":{\"pattern\":{\"fillmode\":\"overlay\",\"size\":10,\"solidity\":0.2}},\"type\":\"histogram\"}],\"scattergl\":[{\"type\":\"scattergl\",\"marker\":{\"colorbar\":{\"outlinewidth\":0,\"ticks\":\"\"}}}],\"scatter3d\":[{\"type\":\"scatter3d\",\"line\":{\"colorbar\":{\"outlinewidth\":0,\"ticks\":\"\"}},\"marker\":{\"colorbar\":{\"outlinewidth\":0,\"ticks\":\"\"}}}],\"scattermapbox\":[{\"type\":\"scattermapbox\",\"marker\":{\"colorbar\":{\"outlinewidth\":0,\"ticks\":\"\"}}}],\"scatterternary\":[{\"type\":\"scatterternary\",\"marker\":{\"colorbar\":{\"outlinewidth\":0,\"ticks\":\"\"}}}],\"scattercarpet\":[{\"type\":\"scattercarpet\",\"marker\":{\"colorbar\":{\"outlinewidth\":0,\"ticks\":\"\"}}}],\"carpet\":[{\"aaxis\":{\"endlinecolor\":\"#2a3f5f\",\"gridcolor\":\"white\",\"linecolor\":\"white\",\"minorgridcolor\":\"white\",\"startlinecolor\":\"#2a3f5f\"},\"baxis\":{\"endlinecolor\":\"#2a3f5f\",\"gridcolor\":\"white\",\"linecolor\":\"white\",\"minorgridcolor\":\"white\",\"startlinecolor\":\"#2a3f5f\"},\"type\":\"carpet\"}],\"table\":[{\"cells\":{\"fill\":{\"color\":\"#EBF0F8\"},\"line\":{\"color\":\"white\"}},\"header\":{\"fill\":{\"color\":\"#C8D4E3\"},\"line\":{\"color\":\"white\"}},\"type\":\"table\"}],\"barpolar\":[{\"marker\":{\"line\":{\"color\":\"#E5ECF6\",\"width\":0.5},\"pattern\":{\"fillmode\":\"overlay\",\"size\":10,\"solidity\":0.2}},\"type\":\"barpolar\"}],\"pie\":[{\"automargin\":true,\"type\":\"pie\"}]},\"layout\":{\"autotypenumbers\":\"strict\",\"colorway\":[\"#636efa\",\"#EF553B\",\"#00cc96\",\"#ab63fa\",\"#FFA15A\",\"#19d3f3\",\"#FF6692\",\"#B6E880\",\"#FF97FF\",\"#FECB52\"],\"font\":{\"color\":\"#2a3f5f\"},\"hovermode\":\"closest\",\"hoverlabel\":{\"align\":\"left\"},\"paper_bgcolor\":\"white\",\"plot_bgcolor\":\"#E5ECF6\",\"polar\":{\"bgcolor\":\"#E5ECF6\",\"angularaxis\":{\"gridcolor\":\"white\",\"linecolor\":\"white\",\"ticks\":\"\"},\"radialaxis\":{\"gridcolor\":\"white\",\"linecolor\":\"white\",\"ticks\":\"\"}},\"ternary\":{\"bgcolor\":\"#E5ECF6\",\"aaxis\":{\"gridcolor\":\"white\",\"linecolor\":\"white\",\"ticks\":\"\"},\"baxis\":{\"gridcolor\":\"white\",\"linecolor\":\"white\",\"ticks\":\"\"},\"caxis\":{\"gridcolor\":\"white\",\"linecolor\":\"white\",\"ticks\":\"\"}},\"coloraxis\":{\"colorbar\":{\"outlinewidth\":0,\"ticks\":\"\"}},\"colorscale\":{\"sequential\":[[0.0,\"#0d0887\"],[0.1111111111111111,\"#46039f\"],[0.2222222222222222,\"#7201a8\"],[0.3333333333333333,\"#9c179e\"],[0.4444444444444444,\"#bd3786\"],[0.5555555555555556,\"#d8576b\"],[0.6666666666666666,\"#ed7953\"],[0.7777777777777778,\"#fb9f3a\"],[0.8888888888888888,\"#fdca26\"],[1.0,\"#f0f921\"]],\"sequentialminus\":[[0.0,\"#0d0887\"],[0.1111111111111111,\"#46039f\"],[0.2222222222222222,\"#7201a8\"],[0.3333333333333333,\"#9c179e\"],[0.4444444444444444,\"#bd3786\"],[0.5555555555555556,\"#d8576b\"],[0.6666666666666666,\"#ed7953\"],[0.7777777777777778,\"#fb9f3a\"],[0.8888888888888888,\"#fdca26\"],[1.0,\"#f0f921\"]],\"diverging\":[[0,\"#8e0152\"],[0.1,\"#c51b7d\"],[0.2,\"#de77ae\"],[0.3,\"#f1b6da\"],[0.4,\"#fde0ef\"],[0.5,\"#f7f7f7\"],[0.6,\"#e6f5d0\"],[0.7,\"#b8e186\"],[0.8,\"#7fbc41\"],[0.9,\"#4d9221\"],[1,\"#276419\"]]},\"xaxis\":{\"gridcolor\":\"white\",\"linecolor\":\"white\",\"ticks\":\"\",\"title\":{\"standoff\":15},\"zerolinecolor\":\"white\",\"automargin\":true,\"zerolinewidth\":2},\"yaxis\":{\"gridcolor\":\"white\",\"linecolor\":\"white\",\"ticks\":\"\",\"title\":{\"standoff\":15},\"zerolinecolor\":\"white\",\"automargin\":true,\"zerolinewidth\":2},\"scene\":{\"xaxis\":{\"backgroundcolor\":\"#E5ECF6\",\"gridcolor\":\"white\",\"linecolor\":\"white\",\"showbackground\":true,\"ticks\":\"\",\"zerolinecolor\":\"white\",\"gridwidth\":2},\"yaxis\":{\"backgroundcolor\":\"#E5ECF6\",\"gridcolor\":\"white\",\"linecolor\":\"white\",\"showbackground\":true,\"ticks\":\"\",\"zerolinecolor\":\"white\",\"gridwidth\":2},\"zaxis\":{\"backgroundcolor\":\"#E5ECF6\",\"gridcolor\":\"white\",\"linecolor\":\"white\",\"showbackground\":true,\"ticks\":\"\",\"zerolinecolor\":\"white\",\"gridwidth\":2}},\"shapedefaults\":{\"line\":{\"color\":\"#2a3f5f\"}},\"annotationdefaults\":{\"arrowcolor\":\"#2a3f5f\",\"arrowhead\":0,\"arrowwidth\":1},\"geo\":{\"bgcolor\":\"white\",\"landcolor\":\"#E5ECF6\",\"subunitcolor\":\"white\",\"showland\":true,\"showlakes\":true,\"lakecolor\":\"white\"},\"title\":{\"x\":0.05},\"mapbox\":{\"style\":\"light\"}}}},                        {\"responsive\": true}                    ).then(function(){\n",
       "                            \n",
       "var gd = document.getElementById('a6d86c77-fbc0-466c-abf8-8e7ac5d5d59f');\n",
       "var x = new MutationObserver(function (mutations, observer) {{\n",
       "        var display = window.getComputedStyle(gd).display;\n",
       "        if (!display || display === 'none') {{\n",
       "            console.log([gd, 'removed!']);\n",
       "            Plotly.purge(gd);\n",
       "            observer.disconnect();\n",
       "        }}\n",
       "}});\n",
       "\n",
       "// Listen for the removal of the full notebook cells\n",
       "var notebookContainer = gd.closest('#notebook-container');\n",
       "if (notebookContainer) {{\n",
       "    x.observe(notebookContainer, {childList: true});\n",
       "}}\n",
       "\n",
       "// Listen for the clearing of the current output cell\n",
       "var outputEl = gd.closest('.output');\n",
       "if (outputEl) {{\n",
       "    x.observe(outputEl, {childList: true});\n",
       "}}\n",
       "\n",
       "                        })                };                });            </script>        </div>"
      ]
     },
     "metadata": {},
     "output_type": "display_data"
    }
   ],
   "source": [
    "import plotly.express as px\n",
    "import plotly.graph_objects as go\n",
    "\n",
    "fig = go.Figure(data=[go.Surface(z=T2['Value'].to_numpy().reshape(10,10), x=np.linspace(0,1000,10), y=np.linspace(0,1000,10))])\n",
    "\n",
    "\n",
    "fig.show()"
   ]
  },
  {
   "cell_type": "code",
   "execution_count": 104,
   "id": "a77373aa",
   "metadata": {},
   "outputs": [
    {
     "data": {
      "text/html": [
       "<div>\n",
       "<style scoped>\n",
       "    .dataframe tbody tr th:only-of-type {\n",
       "        vertical-align: middle;\n",
       "    }\n",
       "\n",
       "    .dataframe tbody tr th {\n",
       "        vertical-align: top;\n",
       "    }\n",
       "\n",
       "    .dataframe thead th {\n",
       "        text-align: right;\n",
       "    }\n",
       "</style>\n",
       "<table border=\"1\" class=\"dataframe\">\n",
       "  <thead>\n",
       "    <tr style=\"text-align: right;\">\n",
       "      <th></th>\n",
       "      <th></th>\n",
       "      <th>Value</th>\n",
       "    </tr>\n",
       "    <tr>\n",
       "      <th>Agent1</th>\n",
       "      <th>Agent2</th>\n",
       "      <th></th>\n",
       "    </tr>\n",
       "  </thead>\n",
       "  <tbody>\n",
       "    <tr>\n",
       "      <th rowspan=\"5\" valign=\"top\">0.0</th>\n",
       "      <th>0.000000</th>\n",
       "      <td>317.767893</td>\n",
       "    </tr>\n",
       "    <tr>\n",
       "      <th>111.111111</th>\n",
       "      <td>178.303100</td>\n",
       "    </tr>\n",
       "    <tr>\n",
       "      <th>222.222222</th>\n",
       "      <td>169.553384</td>\n",
       "    </tr>\n",
       "    <tr>\n",
       "      <th>333.333333</th>\n",
       "      <td>197.097853</td>\n",
       "    </tr>\n",
       "    <tr>\n",
       "      <th>444.444444</th>\n",
       "      <td>200.279982</td>\n",
       "    </tr>\n",
       "    <tr>\n",
       "      <th>...</th>\n",
       "      <th>...</th>\n",
       "      <td>...</td>\n",
       "    </tr>\n",
       "    <tr>\n",
       "      <th rowspan=\"5\" valign=\"top\">1000.0</th>\n",
       "      <th>555.555556</th>\n",
       "      <td>116.301194</td>\n",
       "    </tr>\n",
       "    <tr>\n",
       "      <th>666.666667</th>\n",
       "      <td>117.482240</td>\n",
       "    </tr>\n",
       "    <tr>\n",
       "      <th>777.777778</th>\n",
       "      <td>124.959389</td>\n",
       "    </tr>\n",
       "    <tr>\n",
       "      <th>888.888889</th>\n",
       "      <td>125.762601</td>\n",
       "    </tr>\n",
       "    <tr>\n",
       "      <th>1000.000000</th>\n",
       "      <td>124.335500</td>\n",
       "    </tr>\n",
       "  </tbody>\n",
       "</table>\n",
       "<p>100 rows × 1 columns</p>\n",
       "</div>"
      ],
      "text/plain": [
       "                         Value\n",
       "Agent1 Agent2                 \n",
       "0.0    0.000000     317.767893\n",
       "       111.111111   178.303100\n",
       "       222.222222   169.553384\n",
       "       333.333333   197.097853\n",
       "       444.444444   200.279982\n",
       "...                        ...\n",
       "1000.0 555.555556   116.301194\n",
       "       666.666667   117.482240\n",
       "       777.777778   124.959389\n",
       "       888.888889   125.762601\n",
       "       1000.000000  124.335500\n",
       "\n",
       "[100 rows x 1 columns]"
      ]
     },
     "execution_count": 104,
     "metadata": {},
     "output_type": "execute_result"
    }
   ],
   "source": [
    "pd.DataFrame(T2)"
   ]
  },
  {
   "cell_type": "code",
   "execution_count": 107,
   "id": "188a42ba",
   "metadata": {},
   "outputs": [
    {
     "data": {
      "text/html": [
       "<div>\n",
       "<style scoped>\n",
       "    .dataframe tbody tr th:only-of-type {\n",
       "        vertical-align: middle;\n",
       "    }\n",
       "\n",
       "    .dataframe tbody tr th {\n",
       "        vertical-align: top;\n",
       "    }\n",
       "\n",
       "    .dataframe thead th {\n",
       "        text-align: right;\n",
       "    }\n",
       "</style>\n",
       "<table border=\"1\" class=\"dataframe\">\n",
       "  <thead>\n",
       "    <tr style=\"text-align: right;\">\n",
       "      <th></th>\n",
       "      <th>Agent1</th>\n",
       "      <th>Agent2</th>\n",
       "      <th>Value</th>\n",
       "    </tr>\n",
       "  </thead>\n",
       "  <tbody>\n",
       "    <tr>\n",
       "      <th>0</th>\n",
       "      <td>0.0</td>\n",
       "      <td>0.000000</td>\n",
       "      <td>317.767893</td>\n",
       "    </tr>\n",
       "    <tr>\n",
       "      <th>1</th>\n",
       "      <td>0.0</td>\n",
       "      <td>111.111111</td>\n",
       "      <td>178.303100</td>\n",
       "    </tr>\n",
       "    <tr>\n",
       "      <th>2</th>\n",
       "      <td>0.0</td>\n",
       "      <td>222.222222</td>\n",
       "      <td>169.553384</td>\n",
       "    </tr>\n",
       "    <tr>\n",
       "      <th>3</th>\n",
       "      <td>0.0</td>\n",
       "      <td>333.333333</td>\n",
       "      <td>197.097853</td>\n",
       "    </tr>\n",
       "    <tr>\n",
       "      <th>4</th>\n",
       "      <td>0.0</td>\n",
       "      <td>444.444444</td>\n",
       "      <td>200.279982</td>\n",
       "    </tr>\n",
       "    <tr>\n",
       "      <th>...</th>\n",
       "      <td>...</td>\n",
       "      <td>...</td>\n",
       "      <td>...</td>\n",
       "    </tr>\n",
       "    <tr>\n",
       "      <th>95</th>\n",
       "      <td>1000.0</td>\n",
       "      <td>555.555556</td>\n",
       "      <td>116.301194</td>\n",
       "    </tr>\n",
       "    <tr>\n",
       "      <th>96</th>\n",
       "      <td>1000.0</td>\n",
       "      <td>666.666667</td>\n",
       "      <td>117.482240</td>\n",
       "    </tr>\n",
       "    <tr>\n",
       "      <th>97</th>\n",
       "      <td>1000.0</td>\n",
       "      <td>777.777778</td>\n",
       "      <td>124.959389</td>\n",
       "    </tr>\n",
       "    <tr>\n",
       "      <th>98</th>\n",
       "      <td>1000.0</td>\n",
       "      <td>888.888889</td>\n",
       "      <td>125.762601</td>\n",
       "    </tr>\n",
       "    <tr>\n",
       "      <th>99</th>\n",
       "      <td>1000.0</td>\n",
       "      <td>1000.000000</td>\n",
       "      <td>124.335500</td>\n",
       "    </tr>\n",
       "  </tbody>\n",
       "</table>\n",
       "<p>100 rows × 3 columns</p>\n",
       "</div>"
      ],
      "text/plain": [
       "    Agent1       Agent2       Value\n",
       "0      0.0     0.000000  317.767893\n",
       "1      0.0   111.111111  178.303100\n",
       "2      0.0   222.222222  169.553384\n",
       "3      0.0   333.333333  197.097853\n",
       "4      0.0   444.444444  200.279982\n",
       "..     ...          ...         ...\n",
       "95  1000.0   555.555556  116.301194\n",
       "96  1000.0   666.666667  117.482240\n",
       "97  1000.0   777.777778  124.959389\n",
       "98  1000.0   888.888889  125.762601\n",
       "99  1000.0  1000.000000  124.335500\n",
       "\n",
       "[100 rows x 3 columns]"
      ]
     },
     "execution_count": 107,
     "metadata": {},
     "output_type": "execute_result"
    }
   ],
   "source": [
    "T2.reset_index()"
   ]
  },
  {
   "cell_type": "code",
   "execution_count": 110,
   "id": "2c892771",
   "metadata": {},
   "outputs": [
    {
     "data": {
      "text/plain": [
       "array([317.76789315, 178.3030996 , 169.55338376, 197.09785256,\n",
       "       200.27998235, 204.43292783, 206.30754023, 208.28559569,\n",
       "       208.69463958, 214.95316655, 178.08134411,  61.22661119,\n",
       "        55.5877134 ,  68.63886459,  72.34125269,  84.08138786,\n",
       "        85.26243383,  92.73958226,  93.54279468,  89.14937978,\n",
       "       195.41932719,  78.87048036,  73.01427348,  97.66523332,\n",
       "       100.84736311, 105.00030859, 106.87492098, 110.07756534,\n",
       "       110.88077776, 115.52054731, 210.40184664,  88.46978655,\n",
       "        81.23409942, 107.26453951, 110.4466693 , 116.4018904 ,\n",
       "       117.58293637, 125.0600848 , 125.86329722, 125.1198535 ,\n",
       "       214.65643407,  91.42241898,  85.78352119, 105.21395456,\n",
       "       108.91634265, 120.65647783, 121.8375238 , 129.31467222,\n",
       "       130.11788464, 125.72446974, 214.10861084,  91.11365458,\n",
       "        85.47475678, 104.55840654, 107.74053633, 119.42460341,\n",
       "       120.60564938, 128.0827978 , 128.88601022, 124.49259532,\n",
       "       212.58456819,  91.60674327,  85.96784547, 103.14208868,\n",
       "       106.84447677, 118.58461195, 119.76565792, 127.24280635,\n",
       "       128.04601877, 123.65260387, 213.58817404,  92.70287165,\n",
       "        87.06397386, 102.55586726, 105.73799705, 116.85440953,\n",
       "       118.0354555 , 125.51260393, 126.31581635, 123.43428061,\n",
       "       214.47609763,  89.98803687,  84.34913908, 104.35719009,\n",
       "       107.53931988, 116.49145529, 117.67250126, 125.14964969,\n",
       "       125.95286211, 124.3222042 , 214.48939325,  89.93172226,\n",
       "        84.29282446, 105.52204052, 108.70417031, 116.3011944 ,\n",
       "       117.48224037, 124.9593888 , 125.76260122, 124.33549982])"
      ]
     },
     "execution_count": 110,
     "metadata": {},
     "output_type": "execute_result"
    }
   ],
   "source": [
    "T2['Value'].to_numpy()"
   ]
  },
  {
   "cell_type": "code",
   "execution_count": 134,
   "id": "64b5f5c0",
   "metadata": {},
   "outputs": [],
   "source": [
    "DF=T1.groupby([\"Agent1\",\"Agent2\"])['Value'].max().reset_index()"
   ]
  },
  {
   "cell_type": "code",
   "execution_count": 135,
   "id": "1fb83f09",
   "metadata": {},
   "outputs": [],
   "source": [
    "fig = go.Figure(data=[go.Scatter3d(x=DF[\"Agent1\"], y=DF[\"Agent2\"],z=DF[\"Value\"],mode='markers')])"
   ]
  },
  {
   "cell_type": "code",
   "execution_count": 136,
   "id": "9424d277",
   "metadata": {},
   "outputs": [
    {
     "data": {
      "application/vnd.plotly.v1+json": {
       "config": {
        "plotlyServerURL": "https://plot.ly"
       },
       "data": [
        {
         "mode": "markers",
         "type": "scatter3d",
         "x": [
          0,
          0,
          0,
          0,
          0,
          0,
          0,
          0,
          0,
          0,
          111.11111111111111,
          111.11111111111111,
          111.11111111111111,
          111.11111111111111,
          111.11111111111111,
          111.11111111111111,
          111.11111111111111,
          111.11111111111111,
          111.11111111111111,
          111.11111111111111,
          222.22222222222223,
          222.22222222222223,
          222.22222222222223,
          222.22222222222223,
          222.22222222222223,
          222.22222222222223,
          222.22222222222223,
          222.22222222222223,
          222.22222222222223,
          222.22222222222223,
          333.33333333333337,
          333.33333333333337,
          333.33333333333337,
          333.33333333333337,
          333.33333333333337,
          333.33333333333337,
          333.33333333333337,
          333.33333333333337,
          333.33333333333337,
          333.33333333333337,
          444.44444444444446,
          444.44444444444446,
          444.44444444444446,
          444.44444444444446,
          444.44444444444446,
          444.44444444444446,
          444.44444444444446,
          444.44444444444446,
          444.44444444444446,
          444.44444444444446,
          555.5555555555555,
          555.5555555555555,
          555.5555555555555,
          555.5555555555555,
          555.5555555555555,
          555.5555555555555,
          555.5555555555555,
          555.5555555555555,
          555.5555555555555,
          555.5555555555555,
          666.6666666666667,
          666.6666666666667,
          666.6666666666667,
          666.6666666666667,
          666.6666666666667,
          666.6666666666667,
          666.6666666666667,
          666.6666666666667,
          666.6666666666667,
          666.6666666666667,
          777.7777777777778,
          777.7777777777778,
          777.7777777777778,
          777.7777777777778,
          777.7777777777778,
          777.7777777777778,
          777.7777777777778,
          777.7777777777778,
          777.7777777777778,
          777.7777777777778,
          888.8888888888889,
          888.8888888888889,
          888.8888888888889,
          888.8888888888889,
          888.8888888888889,
          888.8888888888889,
          888.8888888888889,
          888.8888888888889,
          888.8888888888889,
          888.8888888888889,
          1000,
          1000,
          1000,
          1000,
          1000,
          1000,
          1000,
          1000,
          1000,
          1000
         ],
         "y": [
          0,
          111.11111111111111,
          222.22222222222223,
          333.33333333333337,
          444.44444444444446,
          555.5555555555555,
          666.6666666666667,
          777.7777777777778,
          888.8888888888889,
          1000,
          0,
          111.11111111111111,
          222.22222222222223,
          333.33333333333337,
          444.44444444444446,
          555.5555555555555,
          666.6666666666667,
          777.7777777777778,
          888.8888888888889,
          1000,
          0,
          111.11111111111111,
          222.22222222222223,
          333.33333333333337,
          444.44444444444446,
          555.5555555555555,
          666.6666666666667,
          777.7777777777778,
          888.8888888888889,
          1000,
          0,
          111.11111111111111,
          222.22222222222223,
          333.33333333333337,
          444.44444444444446,
          555.5555555555555,
          666.6666666666667,
          777.7777777777778,
          888.8888888888889,
          1000,
          0,
          111.11111111111111,
          222.22222222222223,
          333.33333333333337,
          444.44444444444446,
          555.5555555555555,
          666.6666666666667,
          777.7777777777778,
          888.8888888888889,
          1000,
          0,
          111.11111111111111,
          222.22222222222223,
          333.33333333333337,
          444.44444444444446,
          555.5555555555555,
          666.6666666666667,
          777.7777777777778,
          888.8888888888889,
          1000,
          0,
          111.11111111111111,
          222.22222222222223,
          333.33333333333337,
          444.44444444444446,
          555.5555555555555,
          666.6666666666667,
          777.7777777777778,
          888.8888888888889,
          1000,
          0,
          111.11111111111111,
          222.22222222222223,
          333.33333333333337,
          444.44444444444446,
          555.5555555555555,
          666.6666666666667,
          777.7777777777778,
          888.8888888888889,
          1000,
          0,
          111.11111111111111,
          222.22222222222223,
          333.33333333333337,
          444.44444444444446,
          555.5555555555555,
          666.6666666666667,
          777.7777777777778,
          888.8888888888889,
          1000,
          0,
          111.11111111111111,
          222.22222222222223,
          333.33333333333337,
          444.44444444444446,
          555.5555555555555,
          666.6666666666667,
          777.7777777777778,
          888.8888888888889,
          1000
         ],
         "z": [
          129.43811685580323,
          -50.24645088504402,
          -60.40283858666227,
          -32.0070084481948,
          -34.07306485973349,
          -22.837795597707284,
          -22.4527089642284,
          -16.31889623591769,
          -9.699106589674514,
          -12.116529092962907,
          -53.951076853671296,
          -188.70712289119786,
          -190.59531835019192,
          -163.39355636947442,
          -159.6911682756473,
          -147.95103309868674,
          -146.76998713008825,
          -139.29283870176238,
          -138.48962628252002,
          -142.88304118239853,
          -21.71185013866181,
          -171.282524248091,
          -173.25733526747902,
          -146.05557328676156,
          -142.35318519293443,
          -130.61305001597387,
          -129.43200404737536,
          -121.95485561904951,
          -121.15164319980713,
          -125.54505809968563,
          5.943434484793023,
          -156.38662035695177,
          -158.27481581594583,
          -131.07305383522836,
          -127.37066574140121,
          -115.63053056444068,
          -114.44948459584215,
          -106.97233616751632,
          -106.16912374827393,
          -110.56253864815244,
          4.9447784286818575,
          -152.13203292797684,
          -154.0202283869709,
          -126.81846640625344,
          -123.11607831242628,
          -111.37594313546575,
          -110.19489716686722,
          -102.71774873854139,
          -101.914536319299,
          -106.30795121917751,
          12.417271951875186,
          -153.36390734932917,
          -155.25210280832323,
          -128.0503408276058,
          -124.34795273377864,
          -112.60781755681809,
          -111.42677158821957,
          -103.94962315989372,
          -103.14641074065133,
          -107.53982564052986,
          12.561716890372992,
          -154.2038988065337,
          -156.09209426552778,
          -128.8903322848103,
          -125.18794419098319,
          -113.44780901402262,
          -112.2667630454241,
          -104.78961461709824,
          -103.98640219785587,
          -108.37981709773437,
          9.552652091025344,
          -155.93410122182456,
          -157.82229668081862,
          -130.62053470010113,
          -126.91814660627401,
          -115.17801142931349,
          -113.99696546071496,
          -106.51981703238908,
          -105.71660461314673,
          -110.11001951302524,
          9.896601191257915,
          -156.2970554640989,
          -158.18525092309295,
          -130.9834889423755,
          -127.28110084854835,
          -115.5409656715878,
          -114.3599197029893,
          -106.88277127466343,
          -106.07955885542106,
          -110.47297375529953,
          9.896601191257915,
          -156.4873163517695,
          -158.37551181076358,
          -131.17374983004612,
          -127.47136173621898,
          -115.73122655925843,
          -114.55018059065992,
          -107.07303216233406,
          -106.26981974309169,
          -110.6632346429702
         ]
        }
       ],
       "layout": {
        "template": {
         "data": {
          "bar": [
           {
            "error_x": {
             "color": "#2a3f5f"
            },
            "error_y": {
             "color": "#2a3f5f"
            },
            "marker": {
             "line": {
              "color": "#E5ECF6",
              "width": 0.5
             },
             "pattern": {
              "fillmode": "overlay",
              "size": 10,
              "solidity": 0.2
             }
            },
            "type": "bar"
           }
          ],
          "barpolar": [
           {
            "marker": {
             "line": {
              "color": "#E5ECF6",
              "width": 0.5
             },
             "pattern": {
              "fillmode": "overlay",
              "size": 10,
              "solidity": 0.2
             }
            },
            "type": "barpolar"
           }
          ],
          "carpet": [
           {
            "aaxis": {
             "endlinecolor": "#2a3f5f",
             "gridcolor": "white",
             "linecolor": "white",
             "minorgridcolor": "white",
             "startlinecolor": "#2a3f5f"
            },
            "baxis": {
             "endlinecolor": "#2a3f5f",
             "gridcolor": "white",
             "linecolor": "white",
             "minorgridcolor": "white",
             "startlinecolor": "#2a3f5f"
            },
            "type": "carpet"
           }
          ],
          "choropleth": [
           {
            "colorbar": {
             "outlinewidth": 0,
             "ticks": ""
            },
            "type": "choropleth"
           }
          ],
          "contour": [
           {
            "colorbar": {
             "outlinewidth": 0,
             "ticks": ""
            },
            "colorscale": [
             [
              0,
              "#0d0887"
             ],
             [
              0.1111111111111111,
              "#46039f"
             ],
             [
              0.2222222222222222,
              "#7201a8"
             ],
             [
              0.3333333333333333,
              "#9c179e"
             ],
             [
              0.4444444444444444,
              "#bd3786"
             ],
             [
              0.5555555555555556,
              "#d8576b"
             ],
             [
              0.6666666666666666,
              "#ed7953"
             ],
             [
              0.7777777777777778,
              "#fb9f3a"
             ],
             [
              0.8888888888888888,
              "#fdca26"
             ],
             [
              1,
              "#f0f921"
             ]
            ],
            "type": "contour"
           }
          ],
          "contourcarpet": [
           {
            "colorbar": {
             "outlinewidth": 0,
             "ticks": ""
            },
            "type": "contourcarpet"
           }
          ],
          "heatmap": [
           {
            "colorbar": {
             "outlinewidth": 0,
             "ticks": ""
            },
            "colorscale": [
             [
              0,
              "#0d0887"
             ],
             [
              0.1111111111111111,
              "#46039f"
             ],
             [
              0.2222222222222222,
              "#7201a8"
             ],
             [
              0.3333333333333333,
              "#9c179e"
             ],
             [
              0.4444444444444444,
              "#bd3786"
             ],
             [
              0.5555555555555556,
              "#d8576b"
             ],
             [
              0.6666666666666666,
              "#ed7953"
             ],
             [
              0.7777777777777778,
              "#fb9f3a"
             ],
             [
              0.8888888888888888,
              "#fdca26"
             ],
             [
              1,
              "#f0f921"
             ]
            ],
            "type": "heatmap"
           }
          ],
          "heatmapgl": [
           {
            "colorbar": {
             "outlinewidth": 0,
             "ticks": ""
            },
            "colorscale": [
             [
              0,
              "#0d0887"
             ],
             [
              0.1111111111111111,
              "#46039f"
             ],
             [
              0.2222222222222222,
              "#7201a8"
             ],
             [
              0.3333333333333333,
              "#9c179e"
             ],
             [
              0.4444444444444444,
              "#bd3786"
             ],
             [
              0.5555555555555556,
              "#d8576b"
             ],
             [
              0.6666666666666666,
              "#ed7953"
             ],
             [
              0.7777777777777778,
              "#fb9f3a"
             ],
             [
              0.8888888888888888,
              "#fdca26"
             ],
             [
              1,
              "#f0f921"
             ]
            ],
            "type": "heatmapgl"
           }
          ],
          "histogram": [
           {
            "marker": {
             "pattern": {
              "fillmode": "overlay",
              "size": 10,
              "solidity": 0.2
             }
            },
            "type": "histogram"
           }
          ],
          "histogram2d": [
           {
            "colorbar": {
             "outlinewidth": 0,
             "ticks": ""
            },
            "colorscale": [
             [
              0,
              "#0d0887"
             ],
             [
              0.1111111111111111,
              "#46039f"
             ],
             [
              0.2222222222222222,
              "#7201a8"
             ],
             [
              0.3333333333333333,
              "#9c179e"
             ],
             [
              0.4444444444444444,
              "#bd3786"
             ],
             [
              0.5555555555555556,
              "#d8576b"
             ],
             [
              0.6666666666666666,
              "#ed7953"
             ],
             [
              0.7777777777777778,
              "#fb9f3a"
             ],
             [
              0.8888888888888888,
              "#fdca26"
             ],
             [
              1,
              "#f0f921"
             ]
            ],
            "type": "histogram2d"
           }
          ],
          "histogram2dcontour": [
           {
            "colorbar": {
             "outlinewidth": 0,
             "ticks": ""
            },
            "colorscale": [
             [
              0,
              "#0d0887"
             ],
             [
              0.1111111111111111,
              "#46039f"
             ],
             [
              0.2222222222222222,
              "#7201a8"
             ],
             [
              0.3333333333333333,
              "#9c179e"
             ],
             [
              0.4444444444444444,
              "#bd3786"
             ],
             [
              0.5555555555555556,
              "#d8576b"
             ],
             [
              0.6666666666666666,
              "#ed7953"
             ],
             [
              0.7777777777777778,
              "#fb9f3a"
             ],
             [
              0.8888888888888888,
              "#fdca26"
             ],
             [
              1,
              "#f0f921"
             ]
            ],
            "type": "histogram2dcontour"
           }
          ],
          "mesh3d": [
           {
            "colorbar": {
             "outlinewidth": 0,
             "ticks": ""
            },
            "type": "mesh3d"
           }
          ],
          "parcoords": [
           {
            "line": {
             "colorbar": {
              "outlinewidth": 0,
              "ticks": ""
             }
            },
            "type": "parcoords"
           }
          ],
          "pie": [
           {
            "automargin": true,
            "type": "pie"
           }
          ],
          "scatter": [
           {
            "fillpattern": {
             "fillmode": "overlay",
             "size": 10,
             "solidity": 0.2
            },
            "type": "scatter"
           }
          ],
          "scatter3d": [
           {
            "line": {
             "colorbar": {
              "outlinewidth": 0,
              "ticks": ""
             }
            },
            "marker": {
             "colorbar": {
              "outlinewidth": 0,
              "ticks": ""
             }
            },
            "type": "scatter3d"
           }
          ],
          "scattercarpet": [
           {
            "marker": {
             "colorbar": {
              "outlinewidth": 0,
              "ticks": ""
             }
            },
            "type": "scattercarpet"
           }
          ],
          "scattergeo": [
           {
            "marker": {
             "colorbar": {
              "outlinewidth": 0,
              "ticks": ""
             }
            },
            "type": "scattergeo"
           }
          ],
          "scattergl": [
           {
            "marker": {
             "colorbar": {
              "outlinewidth": 0,
              "ticks": ""
             }
            },
            "type": "scattergl"
           }
          ],
          "scattermapbox": [
           {
            "marker": {
             "colorbar": {
              "outlinewidth": 0,
              "ticks": ""
             }
            },
            "type": "scattermapbox"
           }
          ],
          "scatterpolar": [
           {
            "marker": {
             "colorbar": {
              "outlinewidth": 0,
              "ticks": ""
             }
            },
            "type": "scatterpolar"
           }
          ],
          "scatterpolargl": [
           {
            "marker": {
             "colorbar": {
              "outlinewidth": 0,
              "ticks": ""
             }
            },
            "type": "scatterpolargl"
           }
          ],
          "scatterternary": [
           {
            "marker": {
             "colorbar": {
              "outlinewidth": 0,
              "ticks": ""
             }
            },
            "type": "scatterternary"
           }
          ],
          "surface": [
           {
            "colorbar": {
             "outlinewidth": 0,
             "ticks": ""
            },
            "colorscale": [
             [
              0,
              "#0d0887"
             ],
             [
              0.1111111111111111,
              "#46039f"
             ],
             [
              0.2222222222222222,
              "#7201a8"
             ],
             [
              0.3333333333333333,
              "#9c179e"
             ],
             [
              0.4444444444444444,
              "#bd3786"
             ],
             [
              0.5555555555555556,
              "#d8576b"
             ],
             [
              0.6666666666666666,
              "#ed7953"
             ],
             [
              0.7777777777777778,
              "#fb9f3a"
             ],
             [
              0.8888888888888888,
              "#fdca26"
             ],
             [
              1,
              "#f0f921"
             ]
            ],
            "type": "surface"
           }
          ],
          "table": [
           {
            "cells": {
             "fill": {
              "color": "#EBF0F8"
             },
             "line": {
              "color": "white"
             }
            },
            "header": {
             "fill": {
              "color": "#C8D4E3"
             },
             "line": {
              "color": "white"
             }
            },
            "type": "table"
           }
          ]
         },
         "layout": {
          "annotationdefaults": {
           "arrowcolor": "#2a3f5f",
           "arrowhead": 0,
           "arrowwidth": 1
          },
          "autotypenumbers": "strict",
          "coloraxis": {
           "colorbar": {
            "outlinewidth": 0,
            "ticks": ""
           }
          },
          "colorscale": {
           "diverging": [
            [
             0,
             "#8e0152"
            ],
            [
             0.1,
             "#c51b7d"
            ],
            [
             0.2,
             "#de77ae"
            ],
            [
             0.3,
             "#f1b6da"
            ],
            [
             0.4,
             "#fde0ef"
            ],
            [
             0.5,
             "#f7f7f7"
            ],
            [
             0.6,
             "#e6f5d0"
            ],
            [
             0.7,
             "#b8e186"
            ],
            [
             0.8,
             "#7fbc41"
            ],
            [
             0.9,
             "#4d9221"
            ],
            [
             1,
             "#276419"
            ]
           ],
           "sequential": [
            [
             0,
             "#0d0887"
            ],
            [
             0.1111111111111111,
             "#46039f"
            ],
            [
             0.2222222222222222,
             "#7201a8"
            ],
            [
             0.3333333333333333,
             "#9c179e"
            ],
            [
             0.4444444444444444,
             "#bd3786"
            ],
            [
             0.5555555555555556,
             "#d8576b"
            ],
            [
             0.6666666666666666,
             "#ed7953"
            ],
            [
             0.7777777777777778,
             "#fb9f3a"
            ],
            [
             0.8888888888888888,
             "#fdca26"
            ],
            [
             1,
             "#f0f921"
            ]
           ],
           "sequentialminus": [
            [
             0,
             "#0d0887"
            ],
            [
             0.1111111111111111,
             "#46039f"
            ],
            [
             0.2222222222222222,
             "#7201a8"
            ],
            [
             0.3333333333333333,
             "#9c179e"
            ],
            [
             0.4444444444444444,
             "#bd3786"
            ],
            [
             0.5555555555555556,
             "#d8576b"
            ],
            [
             0.6666666666666666,
             "#ed7953"
            ],
            [
             0.7777777777777778,
             "#fb9f3a"
            ],
            [
             0.8888888888888888,
             "#fdca26"
            ],
            [
             1,
             "#f0f921"
            ]
           ]
          },
          "colorway": [
           "#636efa",
           "#EF553B",
           "#00cc96",
           "#ab63fa",
           "#FFA15A",
           "#19d3f3",
           "#FF6692",
           "#B6E880",
           "#FF97FF",
           "#FECB52"
          ],
          "font": {
           "color": "#2a3f5f"
          },
          "geo": {
           "bgcolor": "white",
           "lakecolor": "white",
           "landcolor": "#E5ECF6",
           "showlakes": true,
           "showland": true,
           "subunitcolor": "white"
          },
          "hoverlabel": {
           "align": "left"
          },
          "hovermode": "closest",
          "mapbox": {
           "style": "light"
          },
          "paper_bgcolor": "white",
          "plot_bgcolor": "#E5ECF6",
          "polar": {
           "angularaxis": {
            "gridcolor": "white",
            "linecolor": "white",
            "ticks": ""
           },
           "bgcolor": "#E5ECF6",
           "radialaxis": {
            "gridcolor": "white",
            "linecolor": "white",
            "ticks": ""
           }
          },
          "scene": {
           "xaxis": {
            "backgroundcolor": "#E5ECF6",
            "gridcolor": "white",
            "gridwidth": 2,
            "linecolor": "white",
            "showbackground": true,
            "ticks": "",
            "zerolinecolor": "white"
           },
           "yaxis": {
            "backgroundcolor": "#E5ECF6",
            "gridcolor": "white",
            "gridwidth": 2,
            "linecolor": "white",
            "showbackground": true,
            "ticks": "",
            "zerolinecolor": "white"
           },
           "zaxis": {
            "backgroundcolor": "#E5ECF6",
            "gridcolor": "white",
            "gridwidth": 2,
            "linecolor": "white",
            "showbackground": true,
            "ticks": "",
            "zerolinecolor": "white"
           }
          },
          "shapedefaults": {
           "line": {
            "color": "#2a3f5f"
           }
          },
          "ternary": {
           "aaxis": {
            "gridcolor": "white",
            "linecolor": "white",
            "ticks": ""
           },
           "baxis": {
            "gridcolor": "white",
            "linecolor": "white",
            "ticks": ""
           },
           "bgcolor": "#E5ECF6",
           "caxis": {
            "gridcolor": "white",
            "linecolor": "white",
            "ticks": ""
           }
          },
          "title": {
           "x": 0.05
          },
          "xaxis": {
           "automargin": true,
           "gridcolor": "white",
           "linecolor": "white",
           "ticks": "",
           "title": {
            "standoff": 15
           },
           "zerolinecolor": "white",
           "zerolinewidth": 2
          },
          "yaxis": {
           "automargin": true,
           "gridcolor": "white",
           "linecolor": "white",
           "ticks": "",
           "title": {
            "standoff": 15
           },
           "zerolinecolor": "white",
           "zerolinewidth": 2
          }
         }
        }
       }
      },
      "text/html": [
       "<div>                            <div id=\"354963d9-ea04-4f64-aec1-b6455e5607f9\" class=\"plotly-graph-div\" style=\"height:525px; width:100%;\"></div>            <script type=\"text/javascript\">                require([\"plotly\"], function(Plotly) {                    window.PLOTLYENV=window.PLOTLYENV || {};                                    if (document.getElementById(\"354963d9-ea04-4f64-aec1-b6455e5607f9\")) {                    Plotly.newPlot(                        \"354963d9-ea04-4f64-aec1-b6455e5607f9\",                        [{\"mode\":\"markers\",\"x\":[0.0,0.0,0.0,0.0,0.0,0.0,0.0,0.0,0.0,0.0,111.11111111111111,111.11111111111111,111.11111111111111,111.11111111111111,111.11111111111111,111.11111111111111,111.11111111111111,111.11111111111111,111.11111111111111,111.11111111111111,222.22222222222223,222.22222222222223,222.22222222222223,222.22222222222223,222.22222222222223,222.22222222222223,222.22222222222223,222.22222222222223,222.22222222222223,222.22222222222223,333.33333333333337,333.33333333333337,333.33333333333337,333.33333333333337,333.33333333333337,333.33333333333337,333.33333333333337,333.33333333333337,333.33333333333337,333.33333333333337,444.44444444444446,444.44444444444446,444.44444444444446,444.44444444444446,444.44444444444446,444.44444444444446,444.44444444444446,444.44444444444446,444.44444444444446,444.44444444444446,555.5555555555555,555.5555555555555,555.5555555555555,555.5555555555555,555.5555555555555,555.5555555555555,555.5555555555555,555.5555555555555,555.5555555555555,555.5555555555555,666.6666666666667,666.6666666666667,666.6666666666667,666.6666666666667,666.6666666666667,666.6666666666667,666.6666666666667,666.6666666666667,666.6666666666667,666.6666666666667,777.7777777777778,777.7777777777778,777.7777777777778,777.7777777777778,777.7777777777778,777.7777777777778,777.7777777777778,777.7777777777778,777.7777777777778,777.7777777777778,888.8888888888889,888.8888888888889,888.8888888888889,888.8888888888889,888.8888888888889,888.8888888888889,888.8888888888889,888.8888888888889,888.8888888888889,888.8888888888889,1000.0,1000.0,1000.0,1000.0,1000.0,1000.0,1000.0,1000.0,1000.0,1000.0],\"y\":[0.0,111.11111111111111,222.22222222222223,333.33333333333337,444.44444444444446,555.5555555555555,666.6666666666667,777.7777777777778,888.8888888888889,1000.0,0.0,111.11111111111111,222.22222222222223,333.33333333333337,444.44444444444446,555.5555555555555,666.6666666666667,777.7777777777778,888.8888888888889,1000.0,0.0,111.11111111111111,222.22222222222223,333.33333333333337,444.44444444444446,555.5555555555555,666.6666666666667,777.7777777777778,888.8888888888889,1000.0,0.0,111.11111111111111,222.22222222222223,333.33333333333337,444.44444444444446,555.5555555555555,666.6666666666667,777.7777777777778,888.8888888888889,1000.0,0.0,111.11111111111111,222.22222222222223,333.33333333333337,444.44444444444446,555.5555555555555,666.6666666666667,777.7777777777778,888.8888888888889,1000.0,0.0,111.11111111111111,222.22222222222223,333.33333333333337,444.44444444444446,555.5555555555555,666.6666666666667,777.7777777777778,888.8888888888889,1000.0,0.0,111.11111111111111,222.22222222222223,333.33333333333337,444.44444444444446,555.5555555555555,666.6666666666667,777.7777777777778,888.8888888888889,1000.0,0.0,111.11111111111111,222.22222222222223,333.33333333333337,444.44444444444446,555.5555555555555,666.6666666666667,777.7777777777778,888.8888888888889,1000.0,0.0,111.11111111111111,222.22222222222223,333.33333333333337,444.44444444444446,555.5555555555555,666.6666666666667,777.7777777777778,888.8888888888889,1000.0,0.0,111.11111111111111,222.22222222222223,333.33333333333337,444.44444444444446,555.5555555555555,666.6666666666667,777.7777777777778,888.8888888888889,1000.0],\"z\":[129.43811685580323,-50.24645088504402,-60.40283858666227,-32.0070084481948,-34.07306485973349,-22.837795597707284,-22.4527089642284,-16.31889623591769,-9.699106589674514,-12.116529092962907,-53.951076853671296,-188.70712289119786,-190.59531835019192,-163.39355636947442,-159.6911682756473,-147.95103309868674,-146.76998713008825,-139.29283870176238,-138.48962628252002,-142.88304118239853,-21.71185013866181,-171.282524248091,-173.25733526747902,-146.05557328676156,-142.35318519293443,-130.61305001597387,-129.43200404737536,-121.95485561904951,-121.15164319980713,-125.54505809968563,5.943434484793023,-156.38662035695177,-158.27481581594583,-131.07305383522836,-127.37066574140121,-115.63053056444068,-114.44948459584215,-106.97233616751632,-106.16912374827393,-110.56253864815244,4.9447784286818575,-152.13203292797684,-154.0202283869709,-126.81846640625344,-123.11607831242628,-111.37594313546575,-110.19489716686722,-102.71774873854139,-101.914536319299,-106.30795121917751,12.417271951875186,-153.36390734932917,-155.25210280832323,-128.0503408276058,-124.34795273377864,-112.60781755681809,-111.42677158821957,-103.94962315989372,-103.14641074065133,-107.53982564052986,12.561716890372992,-154.2038988065337,-156.09209426552778,-128.8903322848103,-125.18794419098319,-113.44780901402262,-112.2667630454241,-104.78961461709824,-103.98640219785587,-108.37981709773437,9.552652091025344,-155.93410122182456,-157.82229668081862,-130.62053470010113,-126.91814660627401,-115.17801142931349,-113.99696546071496,-106.51981703238908,-105.71660461314673,-110.11001951302524,9.896601191257915,-156.2970554640989,-158.18525092309295,-130.9834889423755,-127.28110084854835,-115.5409656715878,-114.3599197029893,-106.88277127466343,-106.07955885542106,-110.47297375529953,9.896601191257915,-156.4873163517695,-158.37551181076358,-131.17374983004612,-127.47136173621898,-115.73122655925843,-114.55018059065992,-107.07303216233406,-106.26981974309169,-110.6632346429702],\"type\":\"scatter3d\"}],                        {\"template\":{\"data\":{\"histogram2dcontour\":[{\"type\":\"histogram2dcontour\",\"colorbar\":{\"outlinewidth\":0,\"ticks\":\"\"},\"colorscale\":[[0.0,\"#0d0887\"],[0.1111111111111111,\"#46039f\"],[0.2222222222222222,\"#7201a8\"],[0.3333333333333333,\"#9c179e\"],[0.4444444444444444,\"#bd3786\"],[0.5555555555555556,\"#d8576b\"],[0.6666666666666666,\"#ed7953\"],[0.7777777777777778,\"#fb9f3a\"],[0.8888888888888888,\"#fdca26\"],[1.0,\"#f0f921\"]]}],\"choropleth\":[{\"type\":\"choropleth\",\"colorbar\":{\"outlinewidth\":0,\"ticks\":\"\"}}],\"histogram2d\":[{\"type\":\"histogram2d\",\"colorbar\":{\"outlinewidth\":0,\"ticks\":\"\"},\"colorscale\":[[0.0,\"#0d0887\"],[0.1111111111111111,\"#46039f\"],[0.2222222222222222,\"#7201a8\"],[0.3333333333333333,\"#9c179e\"],[0.4444444444444444,\"#bd3786\"],[0.5555555555555556,\"#d8576b\"],[0.6666666666666666,\"#ed7953\"],[0.7777777777777778,\"#fb9f3a\"],[0.8888888888888888,\"#fdca26\"],[1.0,\"#f0f921\"]]}],\"heatmap\":[{\"type\":\"heatmap\",\"colorbar\":{\"outlinewidth\":0,\"ticks\":\"\"},\"colorscale\":[[0.0,\"#0d0887\"],[0.1111111111111111,\"#46039f\"],[0.2222222222222222,\"#7201a8\"],[0.3333333333333333,\"#9c179e\"],[0.4444444444444444,\"#bd3786\"],[0.5555555555555556,\"#d8576b\"],[0.6666666666666666,\"#ed7953\"],[0.7777777777777778,\"#fb9f3a\"],[0.8888888888888888,\"#fdca26\"],[1.0,\"#f0f921\"]]}],\"heatmapgl\":[{\"type\":\"heatmapgl\",\"colorbar\":{\"outlinewidth\":0,\"ticks\":\"\"},\"colorscale\":[[0.0,\"#0d0887\"],[0.1111111111111111,\"#46039f\"],[0.2222222222222222,\"#7201a8\"],[0.3333333333333333,\"#9c179e\"],[0.4444444444444444,\"#bd3786\"],[0.5555555555555556,\"#d8576b\"],[0.6666666666666666,\"#ed7953\"],[0.7777777777777778,\"#fb9f3a\"],[0.8888888888888888,\"#fdca26\"],[1.0,\"#f0f921\"]]}],\"contourcarpet\":[{\"type\":\"contourcarpet\",\"colorbar\":{\"outlinewidth\":0,\"ticks\":\"\"}}],\"contour\":[{\"type\":\"contour\",\"colorbar\":{\"outlinewidth\":0,\"ticks\":\"\"},\"colorscale\":[[0.0,\"#0d0887\"],[0.1111111111111111,\"#46039f\"],[0.2222222222222222,\"#7201a8\"],[0.3333333333333333,\"#9c179e\"],[0.4444444444444444,\"#bd3786\"],[0.5555555555555556,\"#d8576b\"],[0.6666666666666666,\"#ed7953\"],[0.7777777777777778,\"#fb9f3a\"],[0.8888888888888888,\"#fdca26\"],[1.0,\"#f0f921\"]]}],\"surface\":[{\"type\":\"surface\",\"colorbar\":{\"outlinewidth\":0,\"ticks\":\"\"},\"colorscale\":[[0.0,\"#0d0887\"],[0.1111111111111111,\"#46039f\"],[0.2222222222222222,\"#7201a8\"],[0.3333333333333333,\"#9c179e\"],[0.4444444444444444,\"#bd3786\"],[0.5555555555555556,\"#d8576b\"],[0.6666666666666666,\"#ed7953\"],[0.7777777777777778,\"#fb9f3a\"],[0.8888888888888888,\"#fdca26\"],[1.0,\"#f0f921\"]]}],\"mesh3d\":[{\"type\":\"mesh3d\",\"colorbar\":{\"outlinewidth\":0,\"ticks\":\"\"}}],\"scatter\":[{\"fillpattern\":{\"fillmode\":\"overlay\",\"size\":10,\"solidity\":0.2},\"type\":\"scatter\"}],\"parcoords\":[{\"type\":\"parcoords\",\"line\":{\"colorbar\":{\"outlinewidth\":0,\"ticks\":\"\"}}}],\"scatterpolargl\":[{\"type\":\"scatterpolargl\",\"marker\":{\"colorbar\":{\"outlinewidth\":0,\"ticks\":\"\"}}}],\"bar\":[{\"error_x\":{\"color\":\"#2a3f5f\"},\"error_y\":{\"color\":\"#2a3f5f\"},\"marker\":{\"line\":{\"color\":\"#E5ECF6\",\"width\":0.5},\"pattern\":{\"fillmode\":\"overlay\",\"size\":10,\"solidity\":0.2}},\"type\":\"bar\"}],\"scattergeo\":[{\"type\":\"scattergeo\",\"marker\":{\"colorbar\":{\"outlinewidth\":0,\"ticks\":\"\"}}}],\"scatterpolar\":[{\"type\":\"scatterpolar\",\"marker\":{\"colorbar\":{\"outlinewidth\":0,\"ticks\":\"\"}}}],\"histogram\":[{\"marker\":{\"pattern\":{\"fillmode\":\"overlay\",\"size\":10,\"solidity\":0.2}},\"type\":\"histogram\"}],\"scattergl\":[{\"type\":\"scattergl\",\"marker\":{\"colorbar\":{\"outlinewidth\":0,\"ticks\":\"\"}}}],\"scatter3d\":[{\"type\":\"scatter3d\",\"line\":{\"colorbar\":{\"outlinewidth\":0,\"ticks\":\"\"}},\"marker\":{\"colorbar\":{\"outlinewidth\":0,\"ticks\":\"\"}}}],\"scattermapbox\":[{\"type\":\"scattermapbox\",\"marker\":{\"colorbar\":{\"outlinewidth\":0,\"ticks\":\"\"}}}],\"scatterternary\":[{\"type\":\"scatterternary\",\"marker\":{\"colorbar\":{\"outlinewidth\":0,\"ticks\":\"\"}}}],\"scattercarpet\":[{\"type\":\"scattercarpet\",\"marker\":{\"colorbar\":{\"outlinewidth\":0,\"ticks\":\"\"}}}],\"carpet\":[{\"aaxis\":{\"endlinecolor\":\"#2a3f5f\",\"gridcolor\":\"white\",\"linecolor\":\"white\",\"minorgridcolor\":\"white\",\"startlinecolor\":\"#2a3f5f\"},\"baxis\":{\"endlinecolor\":\"#2a3f5f\",\"gridcolor\":\"white\",\"linecolor\":\"white\",\"minorgridcolor\":\"white\",\"startlinecolor\":\"#2a3f5f\"},\"type\":\"carpet\"}],\"table\":[{\"cells\":{\"fill\":{\"color\":\"#EBF0F8\"},\"line\":{\"color\":\"white\"}},\"header\":{\"fill\":{\"color\":\"#C8D4E3\"},\"line\":{\"color\":\"white\"}},\"type\":\"table\"}],\"barpolar\":[{\"marker\":{\"line\":{\"color\":\"#E5ECF6\",\"width\":0.5},\"pattern\":{\"fillmode\":\"overlay\",\"size\":10,\"solidity\":0.2}},\"type\":\"barpolar\"}],\"pie\":[{\"automargin\":true,\"type\":\"pie\"}]},\"layout\":{\"autotypenumbers\":\"strict\",\"colorway\":[\"#636efa\",\"#EF553B\",\"#00cc96\",\"#ab63fa\",\"#FFA15A\",\"#19d3f3\",\"#FF6692\",\"#B6E880\",\"#FF97FF\",\"#FECB52\"],\"font\":{\"color\":\"#2a3f5f\"},\"hovermode\":\"closest\",\"hoverlabel\":{\"align\":\"left\"},\"paper_bgcolor\":\"white\",\"plot_bgcolor\":\"#E5ECF6\",\"polar\":{\"bgcolor\":\"#E5ECF6\",\"angularaxis\":{\"gridcolor\":\"white\",\"linecolor\":\"white\",\"ticks\":\"\"},\"radialaxis\":{\"gridcolor\":\"white\",\"linecolor\":\"white\",\"ticks\":\"\"}},\"ternary\":{\"bgcolor\":\"#E5ECF6\",\"aaxis\":{\"gridcolor\":\"white\",\"linecolor\":\"white\",\"ticks\":\"\"},\"baxis\":{\"gridcolor\":\"white\",\"linecolor\":\"white\",\"ticks\":\"\"},\"caxis\":{\"gridcolor\":\"white\",\"linecolor\":\"white\",\"ticks\":\"\"}},\"coloraxis\":{\"colorbar\":{\"outlinewidth\":0,\"ticks\":\"\"}},\"colorscale\":{\"sequential\":[[0.0,\"#0d0887\"],[0.1111111111111111,\"#46039f\"],[0.2222222222222222,\"#7201a8\"],[0.3333333333333333,\"#9c179e\"],[0.4444444444444444,\"#bd3786\"],[0.5555555555555556,\"#d8576b\"],[0.6666666666666666,\"#ed7953\"],[0.7777777777777778,\"#fb9f3a\"],[0.8888888888888888,\"#fdca26\"],[1.0,\"#f0f921\"]],\"sequentialminus\":[[0.0,\"#0d0887\"],[0.1111111111111111,\"#46039f\"],[0.2222222222222222,\"#7201a8\"],[0.3333333333333333,\"#9c179e\"],[0.4444444444444444,\"#bd3786\"],[0.5555555555555556,\"#d8576b\"],[0.6666666666666666,\"#ed7953\"],[0.7777777777777778,\"#fb9f3a\"],[0.8888888888888888,\"#fdca26\"],[1.0,\"#f0f921\"]],\"diverging\":[[0,\"#8e0152\"],[0.1,\"#c51b7d\"],[0.2,\"#de77ae\"],[0.3,\"#f1b6da\"],[0.4,\"#fde0ef\"],[0.5,\"#f7f7f7\"],[0.6,\"#e6f5d0\"],[0.7,\"#b8e186\"],[0.8,\"#7fbc41\"],[0.9,\"#4d9221\"],[1,\"#276419\"]]},\"xaxis\":{\"gridcolor\":\"white\",\"linecolor\":\"white\",\"ticks\":\"\",\"title\":{\"standoff\":15},\"zerolinecolor\":\"white\",\"automargin\":true,\"zerolinewidth\":2},\"yaxis\":{\"gridcolor\":\"white\",\"linecolor\":\"white\",\"ticks\":\"\",\"title\":{\"standoff\":15},\"zerolinecolor\":\"white\",\"automargin\":true,\"zerolinewidth\":2},\"scene\":{\"xaxis\":{\"backgroundcolor\":\"#E5ECF6\",\"gridcolor\":\"white\",\"linecolor\":\"white\",\"showbackground\":true,\"ticks\":\"\",\"zerolinecolor\":\"white\",\"gridwidth\":2},\"yaxis\":{\"backgroundcolor\":\"#E5ECF6\",\"gridcolor\":\"white\",\"linecolor\":\"white\",\"showbackground\":true,\"ticks\":\"\",\"zerolinecolor\":\"white\",\"gridwidth\":2},\"zaxis\":{\"backgroundcolor\":\"#E5ECF6\",\"gridcolor\":\"white\",\"linecolor\":\"white\",\"showbackground\":true,\"ticks\":\"\",\"zerolinecolor\":\"white\",\"gridwidth\":2}},\"shapedefaults\":{\"line\":{\"color\":\"#2a3f5f\"}},\"annotationdefaults\":{\"arrowcolor\":\"#2a3f5f\",\"arrowhead\":0,\"arrowwidth\":1},\"geo\":{\"bgcolor\":\"white\",\"landcolor\":\"#E5ECF6\",\"subunitcolor\":\"white\",\"showland\":true,\"showlakes\":true,\"lakecolor\":\"white\"},\"title\":{\"x\":0.05},\"mapbox\":{\"style\":\"light\"}}}},                        {\"responsive\": true}                    ).then(function(){\n",
       "                            \n",
       "var gd = document.getElementById('354963d9-ea04-4f64-aec1-b6455e5607f9');\n",
       "var x = new MutationObserver(function (mutations, observer) {{\n",
       "        var display = window.getComputedStyle(gd).display;\n",
       "        if (!display || display === 'none') {{\n",
       "            console.log([gd, 'removed!']);\n",
       "            Plotly.purge(gd);\n",
       "            observer.disconnect();\n",
       "        }}\n",
       "}});\n",
       "\n",
       "// Listen for the removal of the full notebook cells\n",
       "var notebookContainer = gd.closest('#notebook-container');\n",
       "if (notebookContainer) {{\n",
       "    x.observe(notebookContainer, {childList: true});\n",
       "}}\n",
       "\n",
       "// Listen for the clearing of the current output cell\n",
       "var outputEl = gd.closest('.output');\n",
       "if (outputEl) {{\n",
       "    x.observe(outputEl, {childList: true});\n",
       "}}\n",
       "\n",
       "                        })                };                });            </script>        </div>"
      ]
     },
     "metadata": {},
     "output_type": "display_data"
    }
   ],
   "source": [
    "fig.show()"
   ]
  },
  {
   "cell_type": "code",
   "execution_count": 161,
   "id": "cefa14b0",
   "metadata": {},
   "outputs": [
    {
     "data": {
      "text/html": [
       "<div>\n",
       "<style scoped>\n",
       "    .dataframe tbody tr th:only-of-type {\n",
       "        vertical-align: middle;\n",
       "    }\n",
       "\n",
       "    .dataframe tbody tr th {\n",
       "        vertical-align: top;\n",
       "    }\n",
       "\n",
       "    .dataframe thead th {\n",
       "        text-align: right;\n",
       "    }\n",
       "</style>\n",
       "<table border=\"1\" class=\"dataframe\">\n",
       "  <thead>\n",
       "    <tr style=\"text-align: right;\">\n",
       "      <th></th>\n",
       "      <th>Agent1</th>\n",
       "      <th>Agent2</th>\n",
       "      <th>Glucose</th>\n",
       "      <th>Starch</th>\n",
       "      <th>Action</th>\n",
       "      <th>Value</th>\n",
       "    </tr>\n",
       "  </thead>\n",
       "  <tbody>\n",
       "    <tr>\n",
       "      <th>550</th>\n",
       "      <td>0.0</td>\n",
       "      <td>0.0</td>\n",
       "      <td>111.111111</td>\n",
       "      <td>5.555556</td>\n",
       "      <td>0</td>\n",
       "      <td>1.166065</td>\n",
       "    </tr>\n",
       "    <tr>\n",
       "      <th>551</th>\n",
       "      <td>0.0</td>\n",
       "      <td>0.0</td>\n",
       "      <td>111.111111</td>\n",
       "      <td>5.555556</td>\n",
       "      <td>1</td>\n",
       "      <td>8.233383</td>\n",
       "    </tr>\n",
       "    <tr>\n",
       "      <th>552</th>\n",
       "      <td>0.0</td>\n",
       "      <td>0.0</td>\n",
       "      <td>111.111111</td>\n",
       "      <td>5.555556</td>\n",
       "      <td>2</td>\n",
       "      <td>1.819019</td>\n",
       "    </tr>\n",
       "    <tr>\n",
       "      <th>553</th>\n",
       "      <td>0.0</td>\n",
       "      <td>0.0</td>\n",
       "      <td>111.111111</td>\n",
       "      <td>5.555556</td>\n",
       "      <td>3</td>\n",
       "      <td>-4.829108</td>\n",
       "    </tr>\n",
       "    <tr>\n",
       "      <th>554</th>\n",
       "      <td>0.0</td>\n",
       "      <td>0.0</td>\n",
       "      <td>111.111111</td>\n",
       "      <td>5.555556</td>\n",
       "      <td>4</td>\n",
       "      <td>6.457504</td>\n",
       "    </tr>\n",
       "    <tr>\n",
       "      <th>...</th>\n",
       "      <td>...</td>\n",
       "      <td>...</td>\n",
       "      <td>...</td>\n",
       "      <td>...</td>\n",
       "      <td>...</td>\n",
       "      <td>...</td>\n",
       "    </tr>\n",
       "    <tr>\n",
       "      <th>99555</th>\n",
       "      <td>1000.0</td>\n",
       "      <td>1000.0</td>\n",
       "      <td>111.111111</td>\n",
       "      <td>5.555556</td>\n",
       "      <td>5</td>\n",
       "      <td>-60.779774</td>\n",
       "    </tr>\n",
       "    <tr>\n",
       "      <th>99556</th>\n",
       "      <td>1000.0</td>\n",
       "      <td>1000.0</td>\n",
       "      <td>111.111111</td>\n",
       "      <td>5.555556</td>\n",
       "      <td>6</td>\n",
       "      <td>-77.374095</td>\n",
       "    </tr>\n",
       "    <tr>\n",
       "      <th>99557</th>\n",
       "      <td>1000.0</td>\n",
       "      <td>1000.0</td>\n",
       "      <td>111.111111</td>\n",
       "      <td>5.555556</td>\n",
       "      <td>7</td>\n",
       "      <td>-68.428362</td>\n",
       "    </tr>\n",
       "    <tr>\n",
       "      <th>99558</th>\n",
       "      <td>1000.0</td>\n",
       "      <td>1000.0</td>\n",
       "      <td>111.111111</td>\n",
       "      <td>5.555556</td>\n",
       "      <td>8</td>\n",
       "      <td>-72.192336</td>\n",
       "    </tr>\n",
       "    <tr>\n",
       "      <th>99559</th>\n",
       "      <td>1000.0</td>\n",
       "      <td>1000.0</td>\n",
       "      <td>111.111111</td>\n",
       "      <td>5.555556</td>\n",
       "      <td>9</td>\n",
       "      <td>-57.977631</td>\n",
       "    </tr>\n",
       "  </tbody>\n",
       "</table>\n",
       "<p>1000 rows × 6 columns</p>\n",
       "</div>"
      ],
      "text/plain": [
       "       Agent1  Agent2     Glucose    Starch  Action      Value\n",
       "550       0.0     0.0  111.111111  5.555556       0   1.166065\n",
       "551       0.0     0.0  111.111111  5.555556       1   8.233383\n",
       "552       0.0     0.0  111.111111  5.555556       2   1.819019\n",
       "553       0.0     0.0  111.111111  5.555556       3  -4.829108\n",
       "554       0.0     0.0  111.111111  5.555556       4   6.457504\n",
       "...       ...     ...         ...       ...     ...        ...\n",
       "99555  1000.0  1000.0  111.111111  5.555556       5 -60.779774\n",
       "99556  1000.0  1000.0  111.111111  5.555556       6 -77.374095\n",
       "99557  1000.0  1000.0  111.111111  5.555556       7 -68.428362\n",
       "99558  1000.0  1000.0  111.111111  5.555556       8 -72.192336\n",
       "99559  1000.0  1000.0  111.111111  5.555556       9 -57.977631\n",
       "\n",
       "[1000 rows x 6 columns]"
      ]
     },
     "execution_count": 161,
     "metadata": {},
     "output_type": "execute_result"
    }
   ],
   "source": []
  },
  {
   "cell_type": "code",
   "execution_count": 162,
   "id": "6a77d94a",
   "metadata": {},
   "outputs": [
    {
     "data": {
      "text/plain": [
       "Agent1  Agent2     \n",
       "0.0     0.000000       89.856119\n",
       "        111.111111    -13.459436\n",
       "        222.222222    -20.406960\n",
       "        333.333333     22.593915\n",
       "        444.444444     33.229487\n",
       "                         ...    \n",
       "1000.0  555.555556    -59.356424\n",
       "        666.666667    -58.612973\n",
       "        777.777778    -58.264128\n",
       "        888.888889    -58.026100\n",
       "        1000.000000   -57.977631\n",
       "Name: Value, Length: 100, dtype: float64"
      ]
     },
     "execution_count": 162,
     "metadata": {},
     "output_type": "execute_result"
    }
   ],
   "source": [
    "T1.groupby([\"Agent1\",\"Agent2\"])['Value'].max()"
   ]
  },
  {
   "cell_type": "code",
   "execution_count": 163,
   "id": "dc728f73",
   "metadata": {},
   "outputs": [],
   "source": [
    "T3=T1.set_index([\"Agent1\",\"Agent2\"])"
   ]
  },
  {
   "cell_type": "code",
   "execution_count": 174,
   "id": "b024ee7e",
   "metadata": {},
   "outputs": [
    {
     "data": {
      "text/plain": [
       "<pandas.core.groupby.generic.DataFrameGroupBy object at 0x2c0803460>"
      ]
     },
     "execution_count": 174,
     "metadata": {},
     "output_type": "execute_result"
    }
   ],
   "source": [
    "T1.groupby([\"Agent1\",\"Agent2\"])"
   ]
  },
  {
   "cell_type": "code",
   "execution_count": 183,
   "id": "33d0f9b1",
   "metadata": {},
   "outputs": [
    {
     "name": "stderr",
     "output_type": "stream",
     "text": [
      "/var/folders/jk/fr50qn391k794svhntbw333c0000gn/T/ipykernel_73945/2850296570.py:1: FutureWarning:\n",
      "\n",
      "Indexing with multiple keys (implicitly converted to a tuple of keys) will be deprecated, use a list instead.\n",
      "\n"
     ]
    },
    {
     "data": {
      "text/html": [
       "<div>\n",
       "<style scoped>\n",
       "    .dataframe tbody tr th:only-of-type {\n",
       "        vertical-align: middle;\n",
       "    }\n",
       "\n",
       "    .dataframe tbody tr th {\n",
       "        vertical-align: top;\n",
       "    }\n",
       "\n",
       "    .dataframe thead th {\n",
       "        text-align: right;\n",
       "    }\n",
       "</style>\n",
       "<table border=\"1\" class=\"dataframe\">\n",
       "  <thead>\n",
       "    <tr style=\"text-align: right;\">\n",
       "      <th></th>\n",
       "      <th></th>\n",
       "      <th>Action</th>\n",
       "      <th>Value</th>\n",
       "    </tr>\n",
       "    <tr>\n",
       "      <th>Agent1</th>\n",
       "      <th>Agent2</th>\n",
       "      <th></th>\n",
       "      <th></th>\n",
       "    </tr>\n",
       "  </thead>\n",
       "  <tbody>\n",
       "    <tr>\n",
       "      <th rowspan=\"5\" valign=\"top\">0.0</th>\n",
       "      <th>0.000000</th>\n",
       "      <td>9</td>\n",
       "      <td>89.856119</td>\n",
       "    </tr>\n",
       "    <tr>\n",
       "      <th>111.111111</th>\n",
       "      <td>9</td>\n",
       "      <td>-13.459436</td>\n",
       "    </tr>\n",
       "    <tr>\n",
       "      <th>222.222222</th>\n",
       "      <td>9</td>\n",
       "      <td>-20.406960</td>\n",
       "    </tr>\n",
       "    <tr>\n",
       "      <th>333.333333</th>\n",
       "      <td>9</td>\n",
       "      <td>22.593915</td>\n",
       "    </tr>\n",
       "    <tr>\n",
       "      <th>444.444444</th>\n",
       "      <td>9</td>\n",
       "      <td>33.229487</td>\n",
       "    </tr>\n",
       "    <tr>\n",
       "      <th>...</th>\n",
       "      <th>...</th>\n",
       "      <td>...</td>\n",
       "      <td>...</td>\n",
       "    </tr>\n",
       "    <tr>\n",
       "      <th rowspan=\"5\" valign=\"top\">1000.0</th>\n",
       "      <th>555.555556</th>\n",
       "      <td>9</td>\n",
       "      <td>-59.356424</td>\n",
       "    </tr>\n",
       "    <tr>\n",
       "      <th>666.666667</th>\n",
       "      <td>9</td>\n",
       "      <td>-58.612973</td>\n",
       "    </tr>\n",
       "    <tr>\n",
       "      <th>777.777778</th>\n",
       "      <td>9</td>\n",
       "      <td>-58.264128</td>\n",
       "    </tr>\n",
       "    <tr>\n",
       "      <th>888.888889</th>\n",
       "      <td>9</td>\n",
       "      <td>-58.026100</td>\n",
       "    </tr>\n",
       "    <tr>\n",
       "      <th>1000.000000</th>\n",
       "      <td>9</td>\n",
       "      <td>-57.977631</td>\n",
       "    </tr>\n",
       "  </tbody>\n",
       "</table>\n",
       "<p>100 rows × 2 columns</p>\n",
       "</div>"
      ],
      "text/plain": [
       "                    Action      Value\n",
       "Agent1 Agent2                        \n",
       "0.0    0.000000          9  89.856119\n",
       "       111.111111        9 -13.459436\n",
       "       222.222222        9 -20.406960\n",
       "       333.333333        9  22.593915\n",
       "       444.444444        9  33.229487\n",
       "...                    ...        ...\n",
       "1000.0 555.555556        9 -59.356424\n",
       "       666.666667        9 -58.612973\n",
       "       777.777778        9 -58.264128\n",
       "       888.888889        9 -58.026100\n",
       "       1000.000000       9 -57.977631\n",
       "\n",
       "[100 rows x 2 columns]"
      ]
     },
     "execution_count": 183,
     "metadata": {},
     "output_type": "execute_result"
    }
   ],
   "source": [
    "T1.groupby([\"Agent1\",\"Agent2\"])['Action','Value'].max('Value')"
   ]
  },
  {
   "cell_type": "code",
   "execution_count": 169,
   "id": "32ca07c3",
   "metadata": {},
   "outputs": [
    {
     "data": {
      "text/html": [
       "<div>\n",
       "<style scoped>\n",
       "    .dataframe tbody tr th:only-of-type {\n",
       "        vertical-align: middle;\n",
       "    }\n",
       "\n",
       "    .dataframe tbody tr th {\n",
       "        vertical-align: top;\n",
       "    }\n",
       "\n",
       "    .dataframe thead th {\n",
       "        text-align: right;\n",
       "    }\n",
       "</style>\n",
       "<table border=\"1\" class=\"dataframe\">\n",
       "  <thead>\n",
       "    <tr style=\"text-align: right;\">\n",
       "      <th></th>\n",
       "      <th></th>\n",
       "      <th>Glucose</th>\n",
       "      <th>Starch</th>\n",
       "      <th>Action</th>\n",
       "      <th>Value</th>\n",
       "    </tr>\n",
       "    <tr>\n",
       "      <th>Agent1</th>\n",
       "      <th>Agent2</th>\n",
       "      <th></th>\n",
       "      <th></th>\n",
       "      <th></th>\n",
       "      <th></th>\n",
       "    </tr>\n",
       "  </thead>\n",
       "  <tbody>\n",
       "    <tr>\n",
       "      <th rowspan=\"5\" valign=\"top\">0.0</th>\n",
       "      <th>0.0</th>\n",
       "      <td>111.111111</td>\n",
       "      <td>5.555556</td>\n",
       "      <td>0</td>\n",
       "      <td>1.166065</td>\n",
       "    </tr>\n",
       "    <tr>\n",
       "      <th>0.0</th>\n",
       "      <td>111.111111</td>\n",
       "      <td>5.555556</td>\n",
       "      <td>1</td>\n",
       "      <td>8.233383</td>\n",
       "    </tr>\n",
       "    <tr>\n",
       "      <th>0.0</th>\n",
       "      <td>111.111111</td>\n",
       "      <td>5.555556</td>\n",
       "      <td>2</td>\n",
       "      <td>1.819019</td>\n",
       "    </tr>\n",
       "    <tr>\n",
       "      <th>0.0</th>\n",
       "      <td>111.111111</td>\n",
       "      <td>5.555556</td>\n",
       "      <td>3</td>\n",
       "      <td>-4.829108</td>\n",
       "    </tr>\n",
       "    <tr>\n",
       "      <th>0.0</th>\n",
       "      <td>111.111111</td>\n",
       "      <td>5.555556</td>\n",
       "      <td>4</td>\n",
       "      <td>6.457504</td>\n",
       "    </tr>\n",
       "    <tr>\n",
       "      <th>...</th>\n",
       "      <th>...</th>\n",
       "      <td>...</td>\n",
       "      <td>...</td>\n",
       "      <td>...</td>\n",
       "      <td>...</td>\n",
       "    </tr>\n",
       "    <tr>\n",
       "      <th rowspan=\"5\" valign=\"top\">1000.0</th>\n",
       "      <th>1000.0</th>\n",
       "      <td>111.111111</td>\n",
       "      <td>5.555556</td>\n",
       "      <td>5</td>\n",
       "      <td>-60.779774</td>\n",
       "    </tr>\n",
       "    <tr>\n",
       "      <th>1000.0</th>\n",
       "      <td>111.111111</td>\n",
       "      <td>5.555556</td>\n",
       "      <td>6</td>\n",
       "      <td>-77.374095</td>\n",
       "    </tr>\n",
       "    <tr>\n",
       "      <th>1000.0</th>\n",
       "      <td>111.111111</td>\n",
       "      <td>5.555556</td>\n",
       "      <td>7</td>\n",
       "      <td>-68.428362</td>\n",
       "    </tr>\n",
       "    <tr>\n",
       "      <th>1000.0</th>\n",
       "      <td>111.111111</td>\n",
       "      <td>5.555556</td>\n",
       "      <td>8</td>\n",
       "      <td>-72.192336</td>\n",
       "    </tr>\n",
       "    <tr>\n",
       "      <th>1000.0</th>\n",
       "      <td>111.111111</td>\n",
       "      <td>5.555556</td>\n",
       "      <td>9</td>\n",
       "      <td>-57.977631</td>\n",
       "    </tr>\n",
       "  </tbody>\n",
       "</table>\n",
       "<p>1000 rows × 4 columns</p>\n",
       "</div>"
      ],
      "text/plain": [
       "                  Glucose    Starch  Action      Value\n",
       "Agent1 Agent2                                         \n",
       "0.0    0.0     111.111111  5.555556       0   1.166065\n",
       "       0.0     111.111111  5.555556       1   8.233383\n",
       "       0.0     111.111111  5.555556       2   1.819019\n",
       "       0.0     111.111111  5.555556       3  -4.829108\n",
       "       0.0     111.111111  5.555556       4   6.457504\n",
       "...                   ...       ...     ...        ...\n",
       "1000.0 1000.0  111.111111  5.555556       5 -60.779774\n",
       "       1000.0  111.111111  5.555556       6 -77.374095\n",
       "       1000.0  111.111111  5.555556       7 -68.428362\n",
       "       1000.0  111.111111  5.555556       8 -72.192336\n",
       "       1000.0  111.111111  5.555556       9 -57.977631\n",
       "\n",
       "[1000 rows x 4 columns]"
      ]
     },
     "execution_count": 169,
     "metadata": {},
     "output_type": "execute_result"
    }
   ],
   "source": [
    "T3"
   ]
  },
  {
   "cell_type": "code",
   "execution_count": 171,
   "id": "d270c691",
   "metadata": {},
   "outputs": [
    {
     "data": {
      "text/plain": [
       "Rolling [window=10,center=False,axis=0,method=single]"
      ]
     },
     "execution_count": 171,
     "metadata": {},
     "output_type": "execute_result"
    }
   ],
   "source": [
    "T1.rolling(window=10)"
   ]
  },
  {
   "cell_type": "code",
   "execution_count": null,
   "id": "2158e5ea",
   "metadata": {},
   "outputs": [],
   "source": []
  }
 ],
 "metadata": {
  "kernelspec": {
   "display_name": "Python 3 (ipykernel)",
   "language": "python",
   "name": "python3"
  },
  "language_info": {
   "codemirror_mode": {
    "name": "ipython",
    "version": 3
   },
   "file_extension": ".py",
   "mimetype": "text/x-python",
   "name": "python",
   "nbconvert_exporter": "python",
   "pygments_lexer": "ipython3",
   "version": "3.9.5"
  }
 },
 "nbformat": 4,
 "nbformat_minor": 5
}
