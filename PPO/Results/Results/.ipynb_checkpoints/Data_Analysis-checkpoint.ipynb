{
 "cells": [
  {
   "cell_type": "code",
   "execution_count": 1,
   "id": "1348ca3e",
   "metadata": {},
   "outputs": [],
   "source": [
    "import json\n",
    "import pandas as pd\n",
    "import matplotlib.pyplot as plt\n",
    "import plotly.express as px\n",
    "from plotly.subplots import make_subplots\n",
    "import plotly.graph_objects as go\n",
    "import numpy as np"
   ]
  },
  {
   "cell_type": "code",
   "execution_count": 89,
   "id": "90b74f87",
   "metadata": {},
   "outputs": [],
   "source": [
    "with open(\"Toy-NECOM_Facultative/returns_600.json\") as f:\n",
    "    facultative_syntrophy_returns=json.load(f)\n",
    "with open(\"Toy-NECOM/returns_600.json\") as f:\n",
    "    obligatory_syntrophy_returns=json.load(f)\n",
    "with open(\"Toy-Exoenzyme/returns_4800.json\") as f:\n",
    "    exoenzyme_returns=json.load(f)"
   ]
  },
  {
   "cell_type": "code",
   "execution_count": 90,
   "id": "3e8503ba",
   "metadata": {},
   "outputs": [],
   "source": [
    "conc_EE=pd.read_table(\"Toy-Exoenzyme/concs.csv\",delimiter=\",\")\n",
    "conc_FS=pd.read_table(\"Toy-NECOM_Facultative/concs.csv\",delimiter=\",\")\n",
    "conc_OS=pd.read_table(\"Toy-NECOM/concs.csv\",delimiter=\",\")"
   ]
  },
  {
   "cell_type": "code",
   "execution_count": 91,
   "id": "bd82dee5",
   "metadata": {},
   "outputs": [],
   "source": [
    "df_fs=pd.DataFrame(facultative_syntrophy_returns)\n",
    "df_os=pd.DataFrame(obligatory_syntrophy_returns)\n",
    "df_ea=pd.DataFrame(exoenzyme_returns)"
   ]
  },
  {
   "cell_type": "code",
   "execution_count": 92,
   "id": "87859871",
   "metadata": {},
   "outputs": [],
   "source": [
    "fig = make_subplots(rows=1,cols=3,subplot_titles=(\"Toy Community A\", \"Toy Community B\", \"Toy Community C\"))"
   ]
  },
  {
   "cell_type": "code",
   "execution_count": 93,
   "id": "8c28be50",
   "metadata": {},
   "outputs": [],
   "source": [
    "colors = ['blue','red','green','cyan']\n",
    "\n",
    "fig.add_trace(go.Scatter(x=np.linspace(0,600,df_fs.shape[0]),y=df_fs['agent1'].to_numpy(),marker=dict(color=colors[0]),legendgroup=\"A\",name=\"agent 1\",legendgrouptitle_text=\"A\"),row=1,col=1)\n",
    "fig.add_trace(go.Scatter(x=np.linspace(0,600,df_fs.shape[0]),y=df_fs['agent2'].to_numpy(),marker=dict(color=colors[1]),legendgroup=\"A\",name=\"agent 2\",legendgrouptitle_text=\"A\"),row=1,col=1)\n",
    "fig.update_yaxes(title_text=\"Totall Return\", row=1, col=1)\n",
    "fig.update_xaxes(title_text=\"Episodes\", row=1, col=1)\n",
    "\n",
    "\n",
    "\n",
    "\n",
    "fig.add_trace(go.Scatter(x=np.linspace(0,600,df_os.shape[0]),y=df_os['agent1'].to_numpy(),marker=dict(color=colors[0]),legendgroup=\"B\",name=\"agent 1\",legendgrouptitle_text=\"B\"),row=1,col=2)\n",
    "fig.add_trace(go.Scatter(x=np.linspace(0,600,df_os.shape[0]),y=df_os['agent2'].to_numpy(),marker=dict(color=colors[1]),legendgroup=\"B\",name=\"agent 2\",legendgrouptitle_text=\"B\"),row=1,col=2)\n",
    "fig.update_xaxes(title_text=\"Episodes\", row=1, col=2)\n",
    "\n",
    "\n",
    "\n",
    "fig.add_trace(go.Scatter(x=np.linspace(0,4800,df_ea.shape[0]),y=df_ea['agent1'].to_numpy(),marker=dict(color=colors[0]),legendgroup=\"C\",name=\"agent 1\",legendgrouptitle_text=\"C\"),row=1,col=3)\n",
    "fig.update_xaxes(title_text=\"Episodes\", row=1, col=3)\n",
    "\n",
    "fig.update_layout(title_text=\"Learning Curve for the Test Communities\",title_x=0.5, height=400,width=800)\n",
    "fig.update_layout(height=400, width=1100)\n",
    "fig.write_image(\"Test.svg\")"
   ]
  },
  {
   "cell_type": "code",
   "execution_count": 94,
   "id": "999156fd",
   "metadata": {},
   "outputs": [],
   "source": [
    "fig1 = make_subplots(rows=1,cols=3,subplot_titles=(\"Toy Community A\", \"Toy Community B\", \"Toy Community C\"))\n",
    "\n",
    "fig1.add_trace(go.Scatter(x=np.linspace(0,100,conc_FS.shape[0]),y=conc_FS['agent1'].to_numpy(),marker=dict(color=colors[0])),row=1,col=1)\n",
    "fig1.add_trace(go.Scatter(x=np.linspace(0,100,conc_FS.shape[0]),y=conc_FS['agent2'].to_numpy(),marker=dict(color=colors[1])),row=1,col=1)\n",
    "fig1.add_trace(go.Scatter(x=np.linspace(0,100,conc_FS.shape[0]),y=(conc_FS['S']/10).to_numpy(),marker=dict(color=colors[2])),row=1,col=1)\n",
    "fig1.update_yaxes(title_text=\"Concentrations\", row=1, col=1)\n",
    "fig1.update_xaxes(title_text=\"Time\", row=1, col=1)\n",
    "\n",
    "\n",
    "fig1.add_trace(go.Scatter(x=np.linspace(0,100,conc_OS.shape[0]),y=conc_OS['agent1'].to_numpy(),marker=dict(color=colors[0])),row=1,col=2)\n",
    "fig1.add_trace(go.Scatter(x=np.linspace(0,100,conc_OS.shape[0]),y=conc_OS['agent2'].to_numpy(),marker=dict(color=colors[1])),row=1,col=2)\n",
    "fig1.add_trace(go.Scatter(x=np.linspace(0,100,conc_OS.shape[0]),y=(conc_OS['S']/10).to_numpy(),marker=dict(color=colors[2])),row=1,col=2)\n",
    "fig1.update_xaxes(title_text=\"Time\", row=1, col=2)\n",
    "\n",
    "fig1.add_trace(go.Scatter(x=np.linspace(0,100,conc_EE.shape[0]),y=conc_EE['agent1'].to_numpy(),marker=dict(color=colors[0])),row=1,col=3)\n",
    "fig1.add_trace(go.Scatter(x=np.linspace(0,100,conc_EE.shape[0]),y=(conc_EE['Glc']).to_numpy(),marker=dict(color=colors[2])),row=1,col=3)\n",
    "fig1.update_xaxes(title_text=\"Time\", row=1, col=3)\n",
    "\n",
    "\n",
    "fig1.update_layout(height=400, width=1100)\n",
    "\n",
    "\n",
    "fig1.update_layout(title_text=\"Concentration Profiles for the Test Communities\",title_x=0.5)\n",
    "\n",
    "\n",
    "\n",
    "\n",
    "\n",
    "\n",
    "fig1.write_image(\"Test1.svg\")"
   ]
  },
  {
   "cell_type": "code",
   "execution_count": null,
   "id": "ef157e47",
   "metadata": {},
   "outputs": [],
   "source": []
  }
 ],
 "metadata": {
  "kernelspec": {
   "display_name": "Python 3 (ipykernel)",
   "language": "python",
   "name": "python3"
  },
  "language_info": {
   "codemirror_mode": {
    "name": "ipython",
    "version": 3
   },
   "file_extension": ".py",
   "mimetype": "text/x-python",
   "name": "python",
   "nbconvert_exporter": "python",
   "pygments_lexer": "ipython3",
   "version": "3.9.7"
  }
 },
 "nbformat": 4,
 "nbformat_minor": 5
}
