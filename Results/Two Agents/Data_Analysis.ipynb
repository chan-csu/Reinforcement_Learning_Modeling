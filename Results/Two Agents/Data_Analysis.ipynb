{
 "cells": [
  {
   "cell_type": "code",
   "execution_count": 1,
   "id": "b17271e1",
   "metadata": {},
   "outputs": [],
   "source": [
    "import pickle\n",
    "import numpy as np\n",
    "from dataclasses import dataclass,field\n",
    "import plotly.graph_objects as go\n",
    "import pandas as pd\n",
    "import matplotlib.pyplot as plt\n",
    "import seaborn as sns\n",
    "import plotly.express as px\n",
    "@dataclass\n",
    "class Feature_Vector:\n",
    "    Number_of_tiles: int =10\n",
    "    Number_of_Tiling:int =10\n",
    "    State_Dimensions: int=2\n",
    "    State_Ranges:list= field(default_factory=lambda:[[2,2],[1,1]])\n",
    "    Number_of_actions:int=3\n",
    "    \n",
    "    def __post_init__(self):\n",
    "        \n",
    "        self._Empty_Feature_vect=np.zeros((self.State_Dimensions,self.Number_of_Tiling,self.Number_of_tiles,self.Number_of_actions))\n",
    "        self.Shift_Vect=[(i[1]-i[0])/self.Number_of_tiles/self.Number_of_Tiling for i in self.State_Ranges]\n",
    "        self._Base_Shift_Vect=np.array([2*i+1 for i in range(self.Number_of_Tiling)]) \n",
    "        Temp=np.ndarray((self.State_Dimensions,self.Number_of_Tiling,self.Number_of_tiles-1),dtype=float)\n",
    "        for i in range(self.State_Dimensions):\n",
    "            for j in range(self.Number_of_Tiling):\n",
    "                Temp[i,j,:]=np.linspace(self.State_Ranges[i][0]+self._Base_Shift_Vect[j]*(i+1)*self.Shift_Vect[i],self.State_Ranges[i][1]+self._Base_Shift_Vect[j]*(i+1)*self.Shift_Vect[i],num=self.Number_of_tiles-1)\n",
    "        self.bin=Temp.copy()\n",
    "    \n",
    "    def Get_Feature_Vector(self,State_Action):\n",
    "        Index=np.zeros((self.State_Dimensions*self.Number_of_Tiling,4),dtype=int)\n",
    "        Index[...,-1]=State_Action[1]\n",
    "        Index[...,1]=np.tile(np.arange(self.Number_of_Tiling),self.State_Dimensions)\n",
    "        Index[...,0]=np.repeat(range(self.State_Dimensions),self.Number_of_Tiling)\n",
    "        Index[...,2]=np.hstack(np.sum(np.subtract(self.bin,np.array(State_Action[0])[:,np.newaxis,np.newaxis])<0,axis=2))        \n",
    "        return tuple(Index.T)\n"
   ]
  },
  {
   "cell_type": "code",
   "execution_count": 2,
   "id": "bad52182",
   "metadata": {},
   "outputs": [],
   "source": [
    "with open(\"Sim_Res_2_A 2\",'rb') as f:\n",
    "    Results=pickle.load(f)"
   ]
  },
  {
   "cell_type": "code",
   "execution_count": 3,
   "id": "5c345f02",
   "metadata": {},
   "outputs": [],
   "source": [
    "Extract=np.zeros((10,10,10,10,10))\n"
   ]
  },
  {
   "cell_type": "code",
   "execution_count": 4,
   "id": "b2bbee26",
   "metadata": {},
   "outputs": [
    {
     "name": "stdout",
     "output_type": "stream",
     "text": [
      "0\n",
      "1\n",
      "2\n",
      "3\n",
      "4\n",
      "5\n",
      "6\n",
      "7\n",
      "8\n",
      "9\n"
     ]
    }
   ],
   "source": [
    "TD1={\"Agent1\":[],\n",
    "   \"Agent2\":[],\n",
    "    \"Glucose\":[],\n",
    "    \"Starch\":[],\n",
    "    \"Action\":[],\n",
    "    \"Value\":[]    \n",
    "   }\n",
    "TD2={\"Agent1\":[],\n",
    "   \"Agent2\":[],\n",
    "    \"Glucose\":[],\n",
    "    \"Starch\":[],\n",
    "    \"Action\":[],\n",
    "    \"Value\":[]    \n",
    "   }\n",
    "\n",
    "for i in range(Extract.shape[0]):\n",
    "    print(i)\n",
    "    for j in range(Extract.shape[1]):\n",
    "        for k in range(Extract.shape[2]):\n",
    "            for l in range(Extract.shape[3]):\n",
    "                for m in range(Extract.shape[4]):\n",
    "                    TD1[\"Agent1\"].append(np.linspace(0,100,10)[i])\n",
    "                    TD1[\"Agent2\"].append(np.linspace(0,100,10)[j])\n",
    "                    TD1[\"Glucose\"].append(np.linspace(0,200,10)[k])\n",
    "                    TD1[\"Starch\"].append(np.linspace(0,10,10)[l])\n",
    "                    TD1[\"Action\"].append(m)\n",
    "                    TD1[\"Value\"].append(np.sum(Results[0][0][0].W[Results[0][0][0].Features.Get_Feature_Vector(((np.linspace(0,100,10)[i],np.linspace(0,100,10)[j],np.linspace(0,200,10)[k],np.linspace(0,10,10)[l]),m))]))\n",
    "                    TD2[\"Agent1\"].append(np.linspace(0,100,10)[i])\n",
    "                    TD2[\"Agent2\"].append(np.linspace(0,100,10)[j])\n",
    "                    TD2[\"Glucose\"].append(np.linspace(0,200,10)[k])\n",
    "                    TD2[\"Starch\"].append(np.linspace(0,10,10)[l])\n",
    "                    TD2[\"Action\"].append(m)\n",
    "                    TD2[\"Value\"].append(np.sum(Results[1][0][1].W[Results[1][0][1].Features.Get_Feature_Vector(((np.linspace(0,100,10)[i],np.linspace(0,100,10)[j],np.linspace(0,200,10)[k],np.linspace(0,10,10)[l]),m))]))\n"
   ]
  },
  {
   "cell_type": "code",
   "execution_count": 5,
   "id": "f2be61c4",
   "metadata": {},
   "outputs": [],
   "source": [
    "Table1=pd.DataFrame(TD1)\n",
    "Table2=pd.DataFrame(TD2)"
   ]
  },
  {
   "cell_type": "code",
   "execution_count": 6,
   "id": "9dc5a730",
   "metadata": {},
   "outputs": [
    {
     "data": {
      "text/plain": [
       "<AxesSubplot:>"
      ]
     },
     "execution_count": 6,
     "metadata": {},
     "output_type": "execute_result"
    },
    {
     "data": {
      "image/png": "[encoded data removed]",
      "text/plain": [
       "<Figure size 432x288 with 2 Axes>"
      ]
     },
     "metadata": {
      "needs_background": "light"
     },
     "output_type": "display_data"
    }
   ],
   "source": [
    "sns.heatmap(Table1.corr())"
   ]
  },
  {
   "cell_type": "code",
   "execution_count": 7,
   "id": "5482ce13",
   "metadata": {},
   "outputs": [
    {
     "data": {
      "text/plain": [
       "<AxesSubplot:>"
      ]
     },
     "execution_count": 7,
     "metadata": {},
     "output_type": "execute_result"
    },
    {
     "data": {
      "image/png": "[encoded data removed]",
      "text/plain": [
       "<Figure size 432x288 with 2 Axes>"
      ]
     },
     "metadata": {
      "needs_background": "light"
     },
     "output_type": "display_data"
    }
   ],
   "source": [
    "sns.heatmap(Table2.corr())"
   ]
  },
  {
   "cell_type": "code",
   "execution_count": 8,
   "id": "e85bfc1d",
   "metadata": {},
   "outputs": [],
   "source": [
    "Data_Table1={\"LowG_LowS\":Table1[((Table1[\"Starch\"]==np.linspace(0,10,10)[0]))&((Table1[\"Glucose\"]==np.linspace(0,200,10)[0]))].reset_index(drop=True).copy(),\n",
    "            \"LowG_MediumS\":Table1[((Table1[\"Starch\"]==np.linspace(0,10,10)[5]))&((Table1[\"Glucose\"]==np.linspace(0,200,10)[0]))].reset_index(drop=True).copy(),\n",
    "            \"LowG_HighS\":Table1[((Table1[\"Starch\"]==np.linspace(0,10,10)[9]))&((Table1[\"Glucose\"]==np.linspace(0,200,10)[0]))].reset_index(drop=True).copy(),\n",
    "            \"MediumG_LowS\":Table1[((Table1[\"Starch\"]==np.linspace(0,10,10)[0]))&((Table1[\"Glucose\"]==np.linspace(0,200,10)[5]))].reset_index(drop=True).copy(),\n",
    "            \"MediumG_MediumS\":Table1[((Table1[\"Starch\"]==np.linspace(0,10,10)[5]))&((Table1[\"Glucose\"]==np.linspace(0,200,10)[5]))].reset_index(drop=True).copy(),\n",
    "            \"MediumG_HighS\":Table1[((Table1[\"Starch\"]==np.linspace(0,10,10)[9]))&((Table1[\"Glucose\"]==np.linspace(0,200,10)[5]))].reset_index(drop=True).copy(),\n",
    "            \"HighG_LowS\":Table1[((Table1[\"Starch\"]==np.linspace(0,10,10)[0]))&((Table1[\"Glucose\"]==np.linspace(0,200,10)[9]))].reset_index(drop=True).copy(),\n",
    "            \"HighG_MediumS\":Table1[((Table1[\"Starch\"]==np.linspace(0,10,10)[5]))&((Table1[\"Glucose\"]==np.linspace(0,200,10)[9]))].reset_index(drop=True).copy(),\n",
    "            \"HighG_HighS\":Table1[((Table1[\"Starch\"]==np.linspace(0,10,10)[9]))&((Table1[\"Glucose\"]==np.linspace(0,200,10)[9]))].reset_index(drop=True).copy(),\n",
    "           }\n",
    "Data_Table2={\"LowG_LowS\":Table2[((Table2[\"Starch\"]==np.linspace(0,10,10)[0]))&((Table2[\"Glucose\"]==np.linspace(0,200,10)[0]))].reset_index(drop=True).copy(),\n",
    "            \"LowG_MediumS\":Table2[((Table2[\"Starch\"]==np.linspace(0,10,10)[5]))&((Table2[\"Glucose\"]==np.linspace(0,200,10)[0]))].reset_index(drop=True).copy(),\n",
    "            \"LowG_HighS\":Table2[((Table2[\"Starch\"]==np.linspace(0,10,10)[9]))&((Table2[\"Glucose\"]==np.linspace(0,200,10)[0]))].reset_index(drop=True).copy(),\n",
    "            \"MediumG_LowS\":Table2[((Table2[\"Starch\"]==np.linspace(0,10,10)[0]))&((Table2[\"Glucose\"]==np.linspace(0,200,10)[5]))].reset_index(drop=True).copy(),\n",
    "            \"MediumG_MediumS\":Table2[((Table2[\"Starch\"]==np.linspace(0,10,10)[5]))&((Table2[\"Glucose\"]==np.linspace(0,200,10)[5]))].reset_index(drop=True).copy(),\n",
    "            \"MediumG_HighS\":Table2[((Table2[\"Starch\"]==np.linspace(0,10,10)[9]))&((Table2[\"Glucose\"]==np.linspace(0,200,10)[5]))].reset_index(drop=True).copy(),\n",
    "            \"HighG_LowS\":Table2[((Table2[\"Starch\"]==np.linspace(0,10,10)[0]))&((Table2[\"Glucose\"]==np.linspace(0,200,10)[9]))].reset_index(drop=True).copy(),\n",
    "            \"HighG_MediumS\":Table2[((Table2[\"Starch\"]==np.linspace(0,10,10)[5]))&((Table2[\"Glucose\"]==np.linspace(0,200,10)[9]))].reset_index(drop=True).copy(),\n",
    "            \"HighG_HighS\":Table2[((Table2[\"Starch\"]==np.linspace(0,10,10)[9]))&((Table2[\"Glucose\"]==np.linspace(0,200,10)[9]))].reset_index(drop=True).copy(),\n",
    "           }"
   ]
  },
  {
   "cell_type": "code",
   "execution_count": 9,
   "id": "eefc23ec",
   "metadata": {},
   "outputs": [],
   "source": [
    "Data_Table_Optimal1={\"LowG_LowS\":Data_Table1[\"LowG_LowS\"].loc[Data_Table1[\"LowG_LowS\"].groupby([\"Agent1\",\"Agent2\"])[\"Value\"].idxmax()],\n",
    "                    \"LowG_MediumS\":Data_Table1[\"LowG_MediumS\"].loc[Data_Table1[\"LowG_MediumS\"].groupby([\"Agent1\",\"Agent2\"])[\"Value\"].idxmax()],\n",
    "                    \"LowG_HighS\":Data_Table1[\"LowG_HighS\"].loc[Data_Table1[\"LowG_HighS\"].groupby([\"Agent1\",\"Agent2\"])[\"Value\"].idxmax()],\n",
    "                    \"MediumG_LowS\":Data_Table1[\"MediumG_LowS\"].loc[Data_Table1[\"MediumG_LowS\"].groupby([\"Agent1\",\"Agent2\"])[\"Value\"].idxmax()],\n",
    "                    \"MediumG_MediumS\":Data_Table1[\"MediumG_MediumS\"].loc[Data_Table1[\"MediumG_MediumS\"].groupby([\"Agent1\",\"Agent2\"])[\"Value\"].idxmax()],\n",
    "                    \"MediumG_HighS\":Data_Table1[\"MediumG_HighS\"].loc[Data_Table1[\"MediumG_HighS\"].groupby([\"Agent1\",\"Agent2\"])[\"Value\"].idxmax()],\n",
    "                    \"HighG_LowS\":Data_Table1[\"HighG_LowS\"].loc[Data_Table1[\"HighG_LowS\"].groupby([\"Agent1\",\"Agent2\"])[\"Value\"].idxmax()],\n",
    "                    \"HighG_MediumS\":Data_Table1[\"HighG_MediumS\"].loc[Data_Table1[\"HighG_MediumS\"].groupby([\"Agent1\",\"Agent2\"])[\"Value\"].idxmax()],\n",
    "                    \"HighG_HighS\":Data_Table1[\"HighG_HighS\"].loc[Data_Table1[\"HighG_HighS\"].groupby([\"Agent1\",\"Agent2\"])[\"Value\"].idxmax()],}\n",
    "\n",
    "\n",
    "Data_Table_Optimal2={\"LowG_LowS\":Data_Table2[\"LowG_LowS\"].loc[Data_Table2[\"LowG_LowS\"].groupby([\"Agent1\",\"Agent2\"])[\"Value\"].idxmax()],\n",
    "                    \"LowG_MediumS\":Data_Table2[\"LowG_MediumS\"].loc[Data_Table2[\"LowG_MediumS\"].groupby([\"Agent1\",\"Agent2\"])[\"Value\"].idxmax()],\n",
    "                    \"LowG_HighS\":Data_Table2[\"LowG_HighS\"].loc[Data_Table2[\"LowG_HighS\"].groupby([\"Agent1\",\"Agent2\"])[\"Value\"].idxmax()],\n",
    "                    \"MediumG_LowS\":Data_Table2[\"MediumG_LowS\"].loc[Data_Table2[\"MediumG_LowS\"].groupby([\"Agent1\",\"Agent2\"])[\"Value\"].idxmax()],\n",
    "                    \"MediumG_MediumS\":Data_Table2[\"MediumG_MediumS\"].loc[Data_Table2[\"MediumG_MediumS\"].groupby([\"Agent1\",\"Agent2\"])[\"Value\"].idxmax()],\n",
    "                    \"MediumG_HighS\":Data_Table2[\"MediumG_HighS\"].loc[Data_Table2[\"MediumG_HighS\"].groupby([\"Agent1\",\"Agent2\"])[\"Value\"].idxmax()],\n",
    "                    \"HighG_LowS\":Data_Table2[\"HighG_LowS\"].loc[Data_Table2[\"HighG_LowS\"].groupby([\"Agent1\",\"Agent2\"])[\"Value\"].idxmax()],\n",
    "                    \"HighG_MediumS\":Data_Table2[\"HighG_MediumS\"].loc[Data_Table2[\"HighG_MediumS\"].groupby([\"Agent1\",\"Agent2\"])[\"Value\"].idxmax()],\n",
    "                    \"HighG_HighS\":Data_Table2[\"HighG_HighS\"].loc[Data_Table2[\"HighG_HighS\"].groupby([\"Agent1\",\"Agent2\"])[\"Value\"].idxmax()],}\n",
    "OPT_DATA=[Data_Table_Optimal1,Data_Table_Optimal2]"
   ]
  },
  {
   "cell_type": "code",
   "execution_count": 10,
   "id": "1b849b99",
   "metadata": {},
   "outputs": [],
   "source": [
    "import plotly.express as px\n",
    "import plotly.graph_objects as go\n",
    "from plotly.subplots import make_subplots\n",
    "Titles=[]\n",
    "S=[]\n",
    "for i in range(len(Data_Table_Optimal2.keys())):\n",
    "#     Titles.append([])\n",
    "    S.append([])\n",
    "    for j in range(2):\n",
    "        Titles.append(\"Agent\"+str(j)+\"_\"+list(Data_Table_Optimal1.keys())[i])\n",
    "        S[i].append({'is_3d': True})\n",
    "fig = make_subplots(rows=9, cols=2,\n",
    "                    specs=S,\n",
    "                    subplot_titles=Titles)\n",
    "\n",
    "for i in range(len(Data_Table_Optimal2.keys())):\n",
    "    for j in range(2):\n",
    "        Temp_Fig= go.Surface(z=OPT_DATA[j][list(OPT_DATA[j].keys())[i]]['Action'].to_numpy().reshape(10,10,order=\"F\"), x=np.linspace(0,100,10), y=np.linspace(0,100,10),coloraxis = \"coloraxis\",)\n",
    "        fig.append_trace(Temp_Fig,row=i+1, col=j+1)\n",
    "\n",
    "\n",
    "fig.update_layout(\n",
    "                    width=2000,\n",
    "                    height=15000,\n",
    "                    margin=dict(r=20, b=10, l=10, t=10),\n",
    "                    )  \n",
    "fig.update_layout(coloraxis_showscale=False)\n",
    "fig.update_scenes(xaxis_title_text='Agent1',  \n",
    "                  yaxis_title_text='Agent2',  \n",
    "                  zaxis_title_text='Action')\n",
    "fig.write_html(\"Policy_Two_Agent.html\")\n"
   ]
  },
  {
   "cell_type": "code",
   "execution_count": 11,
   "id": "a77373aa",
   "metadata": {},
   "outputs": [],
   "source": [
    "import plotly.express as px\n",
    "import plotly.graph_objects as go\n",
    "from plotly.subplots import make_subplots\n",
    "Titles=[]\n",
    "S=[]\n",
    "for i in range(len(Data_Table_Optimal2.keys())):\n",
    "#     Titles.append([])\n",
    "    S.append([])\n",
    "    for j in range(2):\n",
    "        Titles.append(\"Agent\"+str(j)+\"_\"+list(Data_Table_Optimal1.keys())[i])\n",
    "        S[i].append({'is_3d': True})\n",
    "fig = make_subplots(rows=9, cols=2,\n",
    "                    specs=S,\n",
    "                    subplot_titles=Titles)\n",
    "\n",
    "for i in range(len(Data_Table_Optimal2.keys())):\n",
    "    for j in range(2):\n",
    "        Temp_Fig= go.Surface(z=OPT_DATA[j][list(OPT_DATA[j].keys())[i]]['Value'].to_numpy().reshape(10,10,order=\"F\"), x=np.linspace(0,100,10), y=np.linspace(0,100,10),coloraxis = \"coloraxis\",)\n",
    "        fig.append_trace(Temp_Fig,row=i+1, col=j+1)\n",
    "\n",
    "\n",
    "fig.update_layout(\n",
    "                    width=2000,\n",
    "                    height=10000,\n",
    "                    margin=dict(r=20, b=10, l=10, t=10),\n",
    "                    )  \n",
    "fig.update_layout(coloraxis_showscale=False)\n",
    "fig.update_scenes(xaxis_title_text='Agent1',  \n",
    "                  yaxis_title_text='Agent2',  \n",
    "                  zaxis_title_text='Value')\n",
    "fig.write_html(\"Q_Two_Agent.html\")"
   ]
  },
  {
   "cell_type": "code",
   "execution_count": null,
   "id": "fdebc0fd",
   "metadata": {},
   "outputs": [],
   "source": []
  }
 ],
 "metadata": {
  "kernelspec": {
   "display_name": "Python 3 (ipykernel)",
   "language": "python",
   "name": "python3"
  },
  "language_info": {
   "codemirror_mode": {
    "name": "ipython",
    "version": 3
   },
   "file_extension": ".py",
   "mimetype": "text/x-python",
   "name": "python",
   "nbconvert_exporter": "python",
   "pygments_lexer": "ipython3",
   "version": "3.9.5"
  }
 },
 "nbformat": 4,
 "nbformat_minor": 5
}
