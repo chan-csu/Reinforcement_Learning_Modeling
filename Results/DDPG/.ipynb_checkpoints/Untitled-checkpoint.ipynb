{
 "cells": [
  {
   "cell_type": "code",
   "execution_count": 40,
   "id": "9f7ee0e0",
   "metadata": {},
   "outputs": [],
   "source": [
    "import pandas as pd\n",
    "import seaborn as sns"
   ]
  },
  {
   "cell_type": "code",
   "execution_count": 35,
   "id": "d94948aa",
   "metadata": {},
   "outputs": [],
   "source": [
    "Record_FM=pd.read_table(\"Facultative_Mutualism/record_data.csv\",delimiter=\",\")\n",
    "Reward_FM=pd.read_table(\"Facultative_Mutualism/reward_data.csv\",delimiter=\",\")"
   ]
  },
  {
   "cell_type": "code",
   "execution_count": 43,
   "id": "ddae0946",
   "metadata": {},
   "outputs": [],
   "source": [
    "Record_FM=Record_FM[Record_FM[\"Step\"]>=(199999.0)]\n"
   ]
  },
  {
   "cell_type": "code",
   "execution_count": 47,
   "id": "f2dea46c",
   "metadata": {},
   "outputs": [],
   "source": [
    "Record_FM=Record_FM[Record_FM[\"variable\"].str.contains(\"EX\")]"
   ]
  },
  {
   "cell_type": "code",
   "execution_count": 51,
   "id": "a095b045",
   "metadata": {},
   "outputs": [
    {
     "data": {
      "text/plain": [
       "<AxesSubplot:xlabel='variable', ylabel='value'>"
      ]
     },
     "execution_count": 51,
     "metadata": {},
     "output_type": "execute_result"
    },
    {
     "data": {
      "image/png": "[encoded data removed]",
      "text/plain": [
       "<Figure size 432x288 with 1 Axes>"
      ]
     },
     "metadata": {
      "needs_background": "light"
     },
     "output_type": "display_data"
    }
   ],
   "source": [
    "sns.violinplot(data=Record_FM, x=\"variable\", y=\"value\",palette=\"colorblind\")"
   ]
  },
  {
   "cell_type": "code",
   "execution_count": 46,
   "id": "d808f8b6",
   "metadata": {},
   "outputs": [
    {
     "data": {
      "text/html": [
       "<div>\n",
       "<style scoped>\n",
       "    .dataframe tbody tr th:only-of-type {\n",
       "        vertical-align: middle;\n",
       "    }\n",
       "\n",
       "    .dataframe tbody tr th {\n",
       "        vertical-align: top;\n",
       "    }\n",
       "\n",
       "    .dataframe thead th {\n",
       "        text-align: right;\n",
       "    }\n",
       "</style>\n",
       "<table border=\"1\" class=\"dataframe\">\n",
       "  <thead>\n",
       "    <tr style=\"text-align: right;\">\n",
       "      <th></th>\n",
       "      <th>Unnamed: 0</th>\n",
       "      <th>Step</th>\n",
       "      <th>Replicate</th>\n",
       "      <th>variable</th>\n",
       "      <th>value</th>\n",
       "    </tr>\n",
       "  </thead>\n",
       "  <tbody>\n",
       "    <tr>\n",
       "      <th>199999</th>\n",
       "      <td>199999</td>\n",
       "      <td>199999.0</td>\n",
       "      <td>1.0</td>\n",
       "      <td>agent1</td>\n",
       "      <td>1.255899</td>\n",
       "    </tr>\n",
       "    <tr>\n",
       "      <th>399999</th>\n",
       "      <td>399999</td>\n",
       "      <td>199999.0</td>\n",
       "      <td>2.0</td>\n",
       "      <td>agent1</td>\n",
       "      <td>1.635101</td>\n",
       "    </tr>\n",
       "    <tr>\n",
       "      <th>599999</th>\n",
       "      <td>599999</td>\n",
       "      <td>199999.0</td>\n",
       "      <td>3.0</td>\n",
       "      <td>agent1</td>\n",
       "      <td>1.251402</td>\n",
       "    </tr>\n",
       "    <tr>\n",
       "      <th>799999</th>\n",
       "      <td>799999</td>\n",
       "      <td>199999.0</td>\n",
       "      <td>4.0</td>\n",
       "      <td>agent1</td>\n",
       "      <td>1.641003</td>\n",
       "    </tr>\n",
       "    <tr>\n",
       "      <th>999999</th>\n",
       "      <td>999999</td>\n",
       "      <td>199999.0</td>\n",
       "      <td>5.0</td>\n",
       "      <td>agent1</td>\n",
       "      <td>0.933608</td>\n",
       "    </tr>\n",
       "    <tr>\n",
       "      <th>...</th>\n",
       "      <td>...</td>\n",
       "      <td>...</td>\n",
       "      <td>...</td>\n",
       "      <td>...</td>\n",
       "      <td>...</td>\n",
       "    </tr>\n",
       "    <tr>\n",
       "      <th>31199999</th>\n",
       "      <td>31199999</td>\n",
       "      <td>199999.0</td>\n",
       "      <td>12.0</td>\n",
       "      <td>EX_B_sp2</td>\n",
       "      <td>-0.128242</td>\n",
       "    </tr>\n",
       "    <tr>\n",
       "      <th>31399999</th>\n",
       "      <td>31399999</td>\n",
       "      <td>199999.0</td>\n",
       "      <td>13.0</td>\n",
       "      <td>EX_B_sp2</td>\n",
       "      <td>0.070796</td>\n",
       "    </tr>\n",
       "    <tr>\n",
       "      <th>31599999</th>\n",
       "      <td>31599999</td>\n",
       "      <td>199999.0</td>\n",
       "      <td>14.0</td>\n",
       "      <td>EX_B_sp2</td>\n",
       "      <td>-0.094198</td>\n",
       "    </tr>\n",
       "    <tr>\n",
       "      <th>31799999</th>\n",
       "      <td>31799999</td>\n",
       "      <td>199999.0</td>\n",
       "      <td>15.0</td>\n",
       "      <td>EX_B_sp2</td>\n",
       "      <td>-0.133854</td>\n",
       "    </tr>\n",
       "    <tr>\n",
       "      <th>31999999</th>\n",
       "      <td>31999999</td>\n",
       "      <td>199999.0</td>\n",
       "      <td>16.0</td>\n",
       "      <td>EX_B_sp2</td>\n",
       "      <td>0.022654</td>\n",
       "    </tr>\n",
       "  </tbody>\n",
       "</table>\n",
       "<p>160 rows × 5 columns</p>\n",
       "</div>"
      ],
      "text/plain": [
       "          Unnamed: 0      Step  Replicate  variable     value\n",
       "199999        199999  199999.0        1.0    agent1  1.255899\n",
       "399999        399999  199999.0        2.0    agent1  1.635101\n",
       "599999        599999  199999.0        3.0    agent1  1.251402\n",
       "799999        799999  199999.0        4.0    agent1  1.641003\n",
       "999999        999999  199999.0        5.0    agent1  0.933608\n",
       "...              ...       ...        ...       ...       ...\n",
       "31199999    31199999  199999.0       12.0  EX_B_sp2 -0.128242\n",
       "31399999    31399999  199999.0       13.0  EX_B_sp2  0.070796\n",
       "31599999    31599999  199999.0       14.0  EX_B_sp2 -0.094198\n",
       "31799999    31799999  199999.0       15.0  EX_B_sp2 -0.133854\n",
       "31999999    31999999  199999.0       16.0  EX_B_sp2  0.022654\n",
       "\n",
       "[160 rows x 5 columns]"
      ]
     },
     "execution_count": 46,
     "metadata": {},
     "output_type": "execute_result"
    }
   ],
   "source": [
    "Record_OM=pd.read_table(\"Obligate_Mutualism/record_data.csv\",delimiter=\",\")\n",
    "Reward_OM=pd.read_table(\"Obligate_Mutualism/reward_data.csv\",delimiter=\",\")"
   ]
  },
  {
   "cell_type": "code",
   "execution_count": null,
   "id": "b7c59710",
   "metadata": {},
   "outputs": [],
   "source": []
  }
 ],
 "metadata": {
  "kernelspec": {
   "display_name": "Python 3 (ipykernel)",
   "language": "python",
   "name": "python3"
  },
  "language_info": {
   "codemirror_mode": {
    "name": "ipython",
    "version": 3
   },
   "file_extension": ".py",
   "mimetype": "text/x-python",
   "name": "python",
   "nbconvert_exporter": "python",
   "pygments_lexer": "ipython3",
   "version": "3.9.7"
  }
 },
 "nbformat": 4,
 "nbformat_minor": 5
}
