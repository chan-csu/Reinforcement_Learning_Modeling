{
 "cells": [
  {
   "cell_type": "code",
   "execution_count": 3,
   "id": "bfabb080",
   "metadata": {},
   "outputs": [],
   "source": [
    "from dataclasses import dataclass,field\n",
    "from collections import deque\n",
    "@dataclass\n",
    "class Buffer:\n",
    "    \"\"\"\n",
    "    A dataclass for feeding raw observations efficiently to pytorch.\n",
    "\n",
    "    Observations should be given in the form of (State,Actions,Reward)\n",
    "    \"\"\"\n",
    "    window:int=10\n",
    "    batch:list[tuple]=field(default_factory=lambda:[(i,i,i) for i in range(10)])\n",
    "\n",
    "    def __post_init__(self):\n",
    "        self.queue=deque(self.batch,self.window)\n",
    "    \n",
    "    def update_queue(self,interaction:tuple):\n",
    "        self.queue.appendleft(interaction)"
   ]
  },
  {
   "cell_type": "code",
   "execution_count": 5,
   "id": "83dd66d6",
   "metadata": {},
   "outputs": [],
   "source": [
    "A=Buffer(10)"
   ]
  },
  {
   "cell_type": "code",
   "execution_count": 9,
   "id": "22b58c63",
   "metadata": {},
   "outputs": [],
   "source": [
    "A.update_queue((11,11,11))"
   ]
  },
  {
   "cell_type": "code",
   "execution_count": 10,
   "id": "9bf3af0a",
   "metadata": {},
   "outputs": [
    {
     "data": {
      "text/plain": [
       "deque([(11, 11, 11),\n",
       "       (11, 11, 11),\n",
       "       (0, 0, 0),\n",
       "       (1, 1, 1),\n",
       "       (2, 2, 2),\n",
       "       (3, 3, 3),\n",
       "       (4, 4, 4),\n",
       "       (5, 5, 5),\n",
       "       (6, 6, 6),\n",
       "       (7, 7, 7)])"
      ]
     },
     "execution_count": 10,
     "metadata": {},
     "output_type": "execute_result"
    }
   ],
   "source": [
    "A.queue"
   ]
  },
  {
   "cell_type": "code",
   "execution_count": null,
   "id": "44866608",
   "metadata": {},
   "outputs": [],
   "source": []
  }
 ],
 "metadata": {
  "kernelspec": {
   "display_name": "Python 3 (ipykernel)",
   "language": "python",
   "name": "python3"
  },
  "language_info": {
   "codemirror_mode": {
    "name": "ipython",
    "version": 3
   },
   "file_extension": ".py",
   "mimetype": "text/x-python",
   "name": "python",
   "nbconvert_exporter": "python",
   "pygments_lexer": "ipython3",
   "version": "3.9.7"
  }
 },
 "nbformat": 4,
 "nbformat_minor": 5
}
