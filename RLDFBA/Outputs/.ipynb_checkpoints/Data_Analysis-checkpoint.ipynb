{
 "cells": [
  {
   "cell_type": "code",
   "execution_count": 129,
   "id": "ae5069ab",
   "metadata": {},
   "outputs": [],
   "source": [
    "import pickle\n",
    "import pandas as pd\n",
    "import plotly.figure_factory as ff\n",
    "import plotly\n"
   ]
  },
  {
   "cell_type": "code",
   "execution_count": 130,
   "id": "d383a27e",
   "metadata": {},
   "outputs": [],
   "source": [
    "with open('Ecoli_1_0.pkl','rb') as M:\n",
    "    M1=pickle.load(M)\n",
    "with open('Ecoli_2_0.pkl','rb') as M:\n",
    "    M2=pickle.load(M)"
   ]
  },
  {
   "cell_type": "code",
   "execution_count": null,
   "id": "01c5a303",
   "metadata": {},
   "outputs": [],
   "source": []
  },
  {
   "cell_type": "code",
   "execution_count": 131,
   "id": "7e2c7d8e",
   "metadata": {},
   "outputs": [],
   "source": [
    "import plotly.express as px\n",
    "import plotly.graph_objects as go\n"
   ]
  },
  {
   "cell_type": "code",
   "execution_count": 132,
   "id": "14f571fd",
   "metadata": {},
   "outputs": [],
   "source": [
    "Results_Dict={'Glucose':[],\n",
    "         'Starch':[],\n",
    "         'Amylase':[],\n",
    "         'AP1':[],\n",
    "         'AP2':[],\n",
    "        }\n",
    "for item in M1.keys():\n",
    "    Results_Dict['Glucose'].append(item[0])\n",
    "    Results_Dict['Starch'].append(item[1])\n",
    "    Results_Dict['Amylase'].append(item[2])\n",
    "    Results_Dict['AP1'].append(M1[item])\n",
    "    Results_Dict['AP2'].append(M2[item])   \n",
    "    "
   ]
  },
  {
   "cell_type": "code",
   "execution_count": 133,
   "id": "c22e3c08",
   "metadata": {},
   "outputs": [],
   "source": [
    "DF=pd.DataFrame(Results_Dict)"
   ]
  },
  {
   "cell_type": "code",
   "execution_count": 147,
   "id": "26dfe9c0",
   "metadata": {},
   "outputs": [],
   "source": [
    "fig = plotly.subplots.make_subplots(rows=1, cols=2,\n",
    "                                   specs=[[{\"type\": \"ternary\"}, {\"type\": \"ternary\"}]],horizontal_spacing=0.2,\n",
    "                                   column_titles=[\"E.coli 1\",\"E.coli 2\"])\n"
   ]
  },
  {
   "cell_type": "code",
   "execution_count": 155,
   "id": "3179665f",
   "metadata": {},
   "outputs": [
    {
     "ename": "ValueError",
     "evalue": "Invalid property specified for object of type plotly.graph_objs.Scatterternary: 'coloraxis'\n\nDid you mean \"cliponaxis\"?\n\n    Valid properties:\n        a\n            Sets the quantity of component `a` in each data point.\n            If `a`, `b`, and `c` are all provided, they need not be\n            normalized, only the relative values matter. If only\n            two arrays are provided they must be normalized to\n            match `ternary<i>.sum`.\n        asrc\n            Sets the source reference on Chart Studio Cloud for\n            `a`.\n        b\n            Sets the quantity of component `a` in each data point.\n            If `a`, `b`, and `c` are all provided, they need not be\n            normalized, only the relative values matter. If only\n            two arrays are provided they must be normalized to\n            match `ternary<i>.sum`.\n        bsrc\n            Sets the source reference on Chart Studio Cloud for\n            `b`.\n        c\n            Sets the quantity of component `a` in each data point.\n            If `a`, `b`, and `c` are all provided, they need not be\n            normalized, only the relative values matter. If only\n            two arrays are provided they must be normalized to\n            match `ternary<i>.sum`.\n        cliponaxis\n            Determines whether or not markers and text nodes are\n            clipped about the subplot axes. To show markers and\n            text nodes above axis lines and tick labels, make sure\n            to set `xaxis.layer` and `yaxis.layer` to *below\n            traces*.\n        connectgaps\n            Determines whether or not gaps (i.e. {nan} or missing\n            values) in the provided data arrays are connected.\n        csrc\n            Sets the source reference on Chart Studio Cloud for\n            `c`.\n        customdata\n            Assigns extra data each datum. This may be useful when\n            listening to hover, click and selection events. Note\n            that, \"scatter\" traces also appends customdata items in\n            the markers DOM elements\n        customdatasrc\n            Sets the source reference on Chart Studio Cloud for\n            `customdata`.\n        fill\n            Sets the area to fill with a solid color. Use with\n            `fillcolor` if not \"none\". scatterternary has a subset\n            of the options available to scatter. \"toself\" connects\n            the endpoints of the trace (or each segment of the\n            trace if it has gaps) into a closed shape. \"tonext\"\n            fills the space between two traces if one completely\n            encloses the other (eg consecutive contour lines), and\n            behaves like \"toself\" if there is no trace before it.\n            \"tonext\" should not be used if one trace does not\n            enclose the other.\n        fillcolor\n            Sets the fill color. Defaults to a half-transparent\n            variant of the line color, marker color, or marker line\n            color, whichever is available.\n        hoverinfo\n            Determines which trace information appear on hover. If\n            `none` or `skip` are set, no information is displayed\n            upon hovering. But, if `none` is set, click and hover\n            events are still fired.\n        hoverinfosrc\n            Sets the source reference on Chart Studio Cloud for\n            `hoverinfo`.\n        hoverlabel\n            :class:`plotly.graph_objects.scatterternary.Hoverlabel`\n            instance or dict with compatible properties\n        hoveron\n            Do the hover effects highlight individual points\n            (markers or line points) or do they highlight filled\n            regions? If the fill is \"toself\" or \"tonext\" and there\n            are no markers or text, then the default is \"fills\",\n            otherwise it is \"points\".\n        hovertemplate\n            Template string used for rendering the information that\n            appear on hover box. Note that this will override\n            `hoverinfo`. Variables are inserted using %{variable},\n            for example \"y: %{y}\" as well as %{xother}, {%_xother},\n            {%_xother_}, {%xother_}. When showing info for several\n            points, \"xother\" will be added to those with different\n            x positions from the first point. An underscore before\n            or after \"(x|y)other\" will add a space on that side,\n            only when this field is shown. Numbers are formatted\n            using d3-format's syntax %{variable:d3-format}, for\n            example \"Price: %{y:$.2f}\".\n            https://github.com/d3/d3-format/tree/v1.4.5#d3-format\n            for details on the formatting syntax. Dates are\n            formatted using d3-time-format's syntax\n            %{variable|d3-time-format}, for example \"Day:\n            %{2019-01-01|%A}\". https://github.com/d3/d3-time-\n            format/tree/v2.2.3#locale_format for details on the\n            date formatting syntax. The variables available in\n            `hovertemplate` are the ones emitted as event data\n            described at this link\n            https://plotly.com/javascript/plotlyjs-events/#event-\n            data. Additionally, every attributes that can be\n            specified per-point (the ones that are `arrayOk: true`)\n            are available.  Anything contained in tag `<extra>` is\n            displayed in the secondary box, for example\n            \"<extra>{fullData.name}</extra>\". To hide the secondary\n            box completely, use an empty tag `<extra></extra>`.\n        hovertemplatesrc\n            Sets the source reference on Chart Studio Cloud for\n            `hovertemplate`.\n        hovertext\n            Sets hover text elements associated with each (a,b,c)\n            point. If a single string, the same string appears over\n            all the data points. If an array of strings, the items\n            are mapped in order to the the data points in (a,b,c).\n            To be seen, trace `hoverinfo` must contain a \"text\"\n            flag.\n        hovertextsrc\n            Sets the source reference on Chart Studio Cloud for\n            `hovertext`.\n        ids\n            Assigns id labels to each datum. These ids for object\n            constancy of data points during animation. Should be an\n            array of strings, not numbers or any other type.\n        idssrc\n            Sets the source reference on Chart Studio Cloud for\n            `ids`.\n        legendgroup\n            Sets the legend group for this trace. Traces part of\n            the same legend group hide/show at the same time when\n            toggling legend items.\n        legendgrouptitle\n            :class:`plotly.graph_objects.scatterternary.Legendgroup\n            title` instance or dict with compatible properties\n        legendrank\n            Sets the legend rank for this trace. Items and groups\n            with smaller ranks are presented on top/left side while\n            with `*reversed* `legend.traceorder` they are on\n            bottom/right side. The default legendrank is 1000, so\n            that you can use ranks less than 1000 to place certain\n            items before all unranked items, and ranks greater than\n            1000 to go after all unranked items.\n        line\n            :class:`plotly.graph_objects.scatterternary.Line`\n            instance or dict with compatible properties\n        marker\n            :class:`plotly.graph_objects.scatterternary.Marker`\n            instance or dict with compatible properties\n        meta\n            Assigns extra meta information associated with this\n            trace that can be used in various text attributes.\n            Attributes such as trace `name`, graph, axis and\n            colorbar `title.text`, annotation `text`\n            `rangeselector`, `updatemenues` and `sliders` `label`\n            text all support `meta`. To access the trace `meta`\n            values in an attribute in the same trace, simply use\n            `%{meta[i]}` where `i` is the index or key of the\n            `meta` item in question. To access trace `meta` in\n            layout attributes, use `%{data[n[.meta[i]}` where `i`\n            is the index or key of the `meta` and `n` is the trace\n            index.\n        metasrc\n            Sets the source reference on Chart Studio Cloud for\n            `meta`.\n        mode\n            Determines the drawing mode for this scatter trace. If\n            the provided `mode` includes \"text\" then the `text`\n            elements appear at the coordinates. Otherwise, the\n            `text` elements appear on hover. If there are less than\n            20 points and the trace is not stacked then the default\n            is \"lines+markers\". Otherwise, \"lines\".\n        name\n            Sets the trace name. The trace name appear as the\n            legend item and on hover.\n        opacity\n            Sets the opacity of the trace.\n        selected\n            :class:`plotly.graph_objects.scatterternary.Selected`\n            instance or dict with compatible properties\n        selectedpoints\n            Array containing integer indices of selected points.\n            Has an effect only for traces that support selections.\n            Note that an empty array means an empty selection where\n            the `unselected` are turned on for all points, whereas,\n            any other non-array values means no selection all where\n            the `selected` and `unselected` styles have no effect.\n        showlegend\n            Determines whether or not an item corresponding to this\n            trace is shown in the legend.\n        stream\n            :class:`plotly.graph_objects.scatterternary.Stream`\n            instance or dict with compatible properties\n        subplot\n            Sets a reference between this trace's data coordinates\n            and a ternary subplot. If \"ternary\" (the default\n            value), the data refer to `layout.ternary`. If\n            \"ternary2\", the data refer to `layout.ternary2`, and so\n            on.\n        sum\n            The number each triplet should sum to, if only two of\n            `a`, `b`, and `c` are provided. This overrides\n            `ternary<i>.sum` to normalize this specific trace, but\n            does not affect the values displayed on the axes. 0 (or\n            missing) means to use ternary<i>.sum\n        text\n            Sets text elements associated with each (a,b,c) point.\n            If a single string, the same string appears over all\n            the data points. If an array of strings, the items are\n            mapped in order to the the data points in (a,b,c). If\n            trace `hoverinfo` contains a \"text\" flag and\n            \"hovertext\" is not set, these elements will be seen in\n            the hover labels.\n        textfont\n            Sets the text font.\n        textposition\n            Sets the positions of the `text` elements with respects\n            to the (x,y) coordinates.\n        textpositionsrc\n            Sets the source reference on Chart Studio Cloud for\n            `textposition`.\n        textsrc\n            Sets the source reference on Chart Studio Cloud for\n            `text`.\n        texttemplate\n            Template string used for rendering the information text\n            that appear on points. Note that this will override\n            `textinfo`. Variables are inserted using %{variable},\n            for example \"y: %{y}\". Numbers are formatted using\n            d3-format's syntax %{variable:d3-format}, for example\n            \"Price: %{y:$.2f}\".\n            https://github.com/d3/d3-format/tree/v1.4.5#d3-format\n            for details on the formatting syntax. Dates are\n            formatted using d3-time-format's syntax\n            %{variable|d3-time-format}, for example \"Day:\n            %{2019-01-01|%A}\". https://github.com/d3/d3-time-\n            format/tree/v2.2.3#locale_format for details on the\n            date formatting syntax. Every attributes that can be\n            specified per-point (the ones that are `arrayOk: true`)\n            are available. variables `a`, `b`, `c` and `text`.\n        texttemplatesrc\n            Sets the source reference on Chart Studio Cloud for\n            `texttemplate`.\n        uid\n            Assign an id to this trace, Use this to provide object\n            constancy between traces during animations and\n            transitions.\n        uirevision\n            Controls persistence of some user-driven changes to the\n            trace: `constraintrange` in `parcoords` traces, as well\n            as some `editable: true` modifications such as `name`\n            and `colorbar.title`. Defaults to `layout.uirevision`.\n            Note that other user-driven trace attribute changes are\n            controlled by `layout` attributes: `trace.visible` is\n            controlled by `layout.legend.uirevision`,\n            `selectedpoints` is controlled by\n            `layout.selectionrevision`, and `colorbar.(x|y)`\n            (accessible with `config: {editable: true}`) is\n            controlled by `layout.editrevision`. Trace changes are\n            tracked by `uid`, which only falls back on trace index\n            if no `uid` is provided. So if your app can add/remove\n            traces before the end of the `data` array, such that\n            the same trace has a different index, you can still\n            preserve user-driven changes if you give each trace a\n            `uid` that stays with it as it moves.\n        unselected\n            :class:`plotly.graph_objects.scatterternary.Unselected`\n            instance or dict with compatible properties\n        visible\n            Determines whether or not this trace is visible. If\n            \"legendonly\", the trace is not drawn, but can appear as\n            a legend item (provided that the legend itself is\n            visible).\n        \nDid you mean \"cliponaxis\"?\n\nBad property path:\ncoloraxis\n^^^^^^^^^",
     "output_type": "error",
     "traceback": [
      "\u001b[1;31m---------------------------------------------------------------------------\u001b[0m",
      "\u001b[1;31mValueError\u001b[0m                                Traceback (most recent call last)",
      "\u001b[1;32m<ipython-input-155-e7269f7cd685>\u001b[0m in \u001b[0;36m<module>\u001b[1;34m\u001b[0m\n\u001b[0;32m      1\u001b[0m fig.append_trace(\n\u001b[1;32m----> 2\u001b[1;33m     go.Scatterternary({\n\u001b[0m\u001b[0;32m      3\u001b[0m     \u001b[1;34m'mode'\u001b[0m\u001b[1;33m:\u001b[0m \u001b[1;34m'markers'\u001b[0m\u001b[1;33m,\u001b[0m\u001b[1;33m\u001b[0m\u001b[1;33m\u001b[0m\u001b[0m\n\u001b[0;32m      4\u001b[0m     \u001b[1;34m'a'\u001b[0m\u001b[1;33m:\u001b[0m \u001b[0mDF\u001b[0m\u001b[1;33m[\u001b[0m\u001b[1;34m'Glucose'\u001b[0m\u001b[1;33m]\u001b[0m\u001b[1;33m,\u001b[0m\u001b[1;33m\u001b[0m\u001b[1;33m\u001b[0m\u001b[0m\n\u001b[0;32m      5\u001b[0m     \u001b[1;34m'b'\u001b[0m\u001b[1;33m:\u001b[0m \u001b[0mDF\u001b[0m\u001b[1;33m[\u001b[0m\u001b[1;34m'Starch'\u001b[0m\u001b[1;33m]\u001b[0m\u001b[1;33m,\u001b[0m\u001b[1;33m\u001b[0m\u001b[1;33m\u001b[0m\u001b[0m\n",
      "\u001b[1;32m~\\Anaconda3\\lib\\site-packages\\plotly\\graph_objs\\_scatterternary.py\u001b[0m in \u001b[0;36m__init__\u001b[1;34m(self, arg, a, asrc, b, bsrc, c, cliponaxis, connectgaps, csrc, customdata, customdatasrc, fill, fillcolor, hoverinfo, hoverinfosrc, hoverlabel, hoveron, hovertemplate, hovertemplatesrc, hovertext, hovertextsrc, ids, idssrc, legendgroup, legendgrouptitle, legendrank, line, marker, meta, metasrc, mode, name, opacity, selected, selectedpoints, showlegend, stream, subplot, sum, text, textfont, textposition, textpositionsrc, textsrc, texttemplate, texttemplatesrc, uid, uirevision, unselected, visible, **kwargs)\u001b[0m\n\u001b[0;32m   2376\u001b[0m         \u001b[1;31m# Process unknown kwargs\u001b[0m\u001b[1;33m\u001b[0m\u001b[1;33m\u001b[0m\u001b[1;33m\u001b[0m\u001b[0m\n\u001b[0;32m   2377\u001b[0m         \u001b[1;31m# ----------------------\u001b[0m\u001b[1;33m\u001b[0m\u001b[1;33m\u001b[0m\u001b[1;33m\u001b[0m\u001b[0m\n\u001b[1;32m-> 2378\u001b[1;33m         \u001b[0mself\u001b[0m\u001b[1;33m.\u001b[0m\u001b[0m_process_kwargs\u001b[0m\u001b[1;33m(\u001b[0m\u001b[1;33m**\u001b[0m\u001b[0mdict\u001b[0m\u001b[1;33m(\u001b[0m\u001b[0marg\u001b[0m\u001b[1;33m,\u001b[0m \u001b[1;33m**\u001b[0m\u001b[0mkwargs\u001b[0m\u001b[1;33m)\u001b[0m\u001b[1;33m)\u001b[0m\u001b[1;33m\u001b[0m\u001b[1;33m\u001b[0m\u001b[0m\n\u001b[0m\u001b[0;32m   2379\u001b[0m \u001b[1;33m\u001b[0m\u001b[0m\n\u001b[0;32m   2380\u001b[0m         \u001b[1;31m# Reset skip_invalid\u001b[0m\u001b[1;33m\u001b[0m\u001b[1;33m\u001b[0m\u001b[1;33m\u001b[0m\u001b[0m\n",
      "\u001b[1;32m~\\Anaconda3\\lib\\site-packages\\plotly\\basedatatypes.py\u001b[0m in \u001b[0;36m_process_kwargs\u001b[1;34m(self, **kwargs)\u001b[0m\n\u001b[0;32m   4352\u001b[0m                 \u001b[0mself\u001b[0m\u001b[1;33m[\u001b[0m\u001b[0mk\u001b[0m\u001b[1;33m]\u001b[0m \u001b[1;33m=\u001b[0m \u001b[0mv\u001b[0m\u001b[1;33m\u001b[0m\u001b[1;33m\u001b[0m\u001b[0m\n\u001b[0;32m   4353\u001b[0m             \u001b[1;32melif\u001b[0m \u001b[1;32mnot\u001b[0m \u001b[0mself\u001b[0m\u001b[1;33m.\u001b[0m\u001b[0m_skip_invalid\u001b[0m\u001b[1;33m:\u001b[0m\u001b[1;33m\u001b[0m\u001b[1;33m\u001b[0m\u001b[0m\n\u001b[1;32m-> 4354\u001b[1;33m                 \u001b[1;32mraise\u001b[0m \u001b[0merr\u001b[0m\u001b[1;33m\u001b[0m\u001b[1;33m\u001b[0m\u001b[0m\n\u001b[0m\u001b[0;32m   4355\u001b[0m         \u001b[1;31m# No need to call _raise_on_invalid_property_error here,\u001b[0m\u001b[1;33m\u001b[0m\u001b[1;33m\u001b[0m\u001b[1;33m\u001b[0m\u001b[0m\n\u001b[0;32m   4356\u001b[0m         \u001b[1;31m# because we have it set up so that the singular case of calling\u001b[0m\u001b[1;33m\u001b[0m\u001b[1;33m\u001b[0m\u001b[1;33m\u001b[0m\u001b[0m\n",
      "\u001b[1;31mValueError\u001b[0m: Invalid property specified for object of type plotly.graph_objs.Scatterternary: 'coloraxis'\n\nDid you mean \"cliponaxis\"?\n\n    Valid properties:\n        a\n            Sets the quantity of component `a` in each data point.\n            If `a`, `b`, and `c` are all provided, they need not be\n            normalized, only the relative values matter. If only\n            two arrays are provided they must be normalized to\n            match `ternary<i>.sum`.\n        asrc\n            Sets the source reference on Chart Studio Cloud for\n            `a`.\n        b\n            Sets the quantity of component `a` in each data point.\n            If `a`, `b`, and `c` are all provided, they need not be\n            normalized, only the relative values matter. If only\n            two arrays are provided they must be normalized to\n            match `ternary<i>.sum`.\n        bsrc\n            Sets the source reference on Chart Studio Cloud for\n            `b`.\n        c\n            Sets the quantity of component `a` in each data point.\n            If `a`, `b`, and `c` are all provided, they need not be\n            normalized, only the relative values matter. If only\n            two arrays are provided they must be normalized to\n            match `ternary<i>.sum`.\n        cliponaxis\n            Determines whether or not markers and text nodes are\n            clipped about the subplot axes. To show markers and\n            text nodes above axis lines and tick labels, make sure\n            to set `xaxis.layer` and `yaxis.layer` to *below\n            traces*.\n        connectgaps\n            Determines whether or not gaps (i.e. {nan} or missing\n            values) in the provided data arrays are connected.\n        csrc\n            Sets the source reference on Chart Studio Cloud for\n            `c`.\n        customdata\n            Assigns extra data each datum. This may be useful when\n            listening to hover, click and selection events. Note\n            that, \"scatter\" traces also appends customdata items in\n            the markers DOM elements\n        customdatasrc\n            Sets the source reference on Chart Studio Cloud for\n            `customdata`.\n        fill\n            Sets the area to fill with a solid color. Use with\n            `fillcolor` if not \"none\". scatterternary has a subset\n            of the options available to scatter. \"toself\" connects\n            the endpoints of the trace (or each segment of the\n            trace if it has gaps) into a closed shape. \"tonext\"\n            fills the space between two traces if one completely\n            encloses the other (eg consecutive contour lines), and\n            behaves like \"toself\" if there is no trace before it.\n            \"tonext\" should not be used if one trace does not\n            enclose the other.\n        fillcolor\n            Sets the fill color. Defaults to a half-transparent\n            variant of the line color, marker color, or marker line\n            color, whichever is available.\n        hoverinfo\n            Determines which trace information appear on hover. If\n            `none` or `skip` are set, no information is displayed\n            upon hovering. But, if `none` is set, click and hover\n            events are still fired.\n        hoverinfosrc\n            Sets the source reference on Chart Studio Cloud for\n            `hoverinfo`.\n        hoverlabel\n            :class:`plotly.graph_objects.scatterternary.Hoverlabel`\n            instance or dict with compatible properties\n        hoveron\n            Do the hover effects highlight individual points\n            (markers or line points) or do they highlight filled\n            regions? If the fill is \"toself\" or \"tonext\" and there\n            are no markers or text, then the default is \"fills\",\n            otherwise it is \"points\".\n        hovertemplate\n            Template string used for rendering the information that\n            appear on hover box. Note that this will override\n            `hoverinfo`. Variables are inserted using %{variable},\n            for example \"y: %{y}\" as well as %{xother}, {%_xother},\n            {%_xother_}, {%xother_}. When showing info for several\n            points, \"xother\" will be added to those with different\n            x positions from the first point. An underscore before\n            or after \"(x|y)other\" will add a space on that side,\n            only when this field is shown. Numbers are formatted\n            using d3-format's syntax %{variable:d3-format}, for\n            example \"Price: %{y:$.2f}\".\n            https://github.com/d3/d3-format/tree/v1.4.5#d3-format\n            for details on the formatting syntax. Dates are\n            formatted using d3-time-format's syntax\n            %{variable|d3-time-format}, for example \"Day:\n            %{2019-01-01|%A}\". https://github.com/d3/d3-time-\n            format/tree/v2.2.3#locale_format for details on the\n            date formatting syntax. The variables available in\n            `hovertemplate` are the ones emitted as event data\n            described at this link\n            https://plotly.com/javascript/plotlyjs-events/#event-\n            data. Additionally, every attributes that can be\n            specified per-point (the ones that are `arrayOk: true`)\n            are available.  Anything contained in tag `<extra>` is\n            displayed in the secondary box, for example\n            \"<extra>{fullData.name}</extra>\". To hide the secondary\n            box completely, use an empty tag `<extra></extra>`.\n        hovertemplatesrc\n            Sets the source reference on Chart Studio Cloud for\n            `hovertemplate`.\n        hovertext\n            Sets hover text elements associated with each (a,b,c)\n            point. If a single string, the same string appears over\n            all the data points. If an array of strings, the items\n            are mapped in order to the the data points in (a,b,c).\n            To be seen, trace `hoverinfo` must contain a \"text\"\n            flag.\n        hovertextsrc\n            Sets the source reference on Chart Studio Cloud for\n            `hovertext`.\n        ids\n            Assigns id labels to each datum. These ids for object\n            constancy of data points during animation. Should be an\n            array of strings, not numbers or any other type.\n        idssrc\n            Sets the source reference on Chart Studio Cloud for\n            `ids`.\n        legendgroup\n            Sets the legend group for this trace. Traces part of\n            the same legend group hide/show at the same time when\n            toggling legend items.\n        legendgrouptitle\n            :class:`plotly.graph_objects.scatterternary.Legendgroup\n            title` instance or dict with compatible properties\n        legendrank\n            Sets the legend rank for this trace. Items and groups\n            with smaller ranks are presented on top/left side while\n            with `*reversed* `legend.traceorder` they are on\n            bottom/right side. The default legendrank is 1000, so\n            that you can use ranks less than 1000 to place certain\n            items before all unranked items, and ranks greater than\n            1000 to go after all unranked items.\n        line\n            :class:`plotly.graph_objects.scatterternary.Line`\n            instance or dict with compatible properties\n        marker\n            :class:`plotly.graph_objects.scatterternary.Marker`\n            instance or dict with compatible properties\n        meta\n            Assigns extra meta information associated with this\n            trace that can be used in various text attributes.\n            Attributes such as trace `name`, graph, axis and\n            colorbar `title.text`, annotation `text`\n            `rangeselector`, `updatemenues` and `sliders` `label`\n            text all support `meta`. To access the trace `meta`\n            values in an attribute in the same trace, simply use\n            `%{meta[i]}` where `i` is the index or key of the\n            `meta` item in question. To access trace `meta` in\n            layout attributes, use `%{data[n[.meta[i]}` where `i`\n            is the index or key of the `meta` and `n` is the trace\n            index.\n        metasrc\n            Sets the source reference on Chart Studio Cloud for\n            `meta`.\n        mode\n            Determines the drawing mode for this scatter trace. If\n            the provided `mode` includes \"text\" then the `text`\n            elements appear at the coordinates. Otherwise, the\n            `text` elements appear on hover. If there are less than\n            20 points and the trace is not stacked then the default\n            is \"lines+markers\". Otherwise, \"lines\".\n        name\n            Sets the trace name. The trace name appear as the\n            legend item and on hover.\n        opacity\n            Sets the opacity of the trace.\n        selected\n            :class:`plotly.graph_objects.scatterternary.Selected`\n            instance or dict with compatible properties\n        selectedpoints\n            Array containing integer indices of selected points.\n            Has an effect only for traces that support selections.\n            Note that an empty array means an empty selection where\n            the `unselected` are turned on for all points, whereas,\n            any other non-array values means no selection all where\n            the `selected` and `unselected` styles have no effect.\n        showlegend\n            Determines whether or not an item corresponding to this\n            trace is shown in the legend.\n        stream\n            :class:`plotly.graph_objects.scatterternary.Stream`\n            instance or dict with compatible properties\n        subplot\n            Sets a reference between this trace's data coordinates\n            and a ternary subplot. If \"ternary\" (the default\n            value), the data refer to `layout.ternary`. If\n            \"ternary2\", the data refer to `layout.ternary2`, and so\n            on.\n        sum\n            The number each triplet should sum to, if only two of\n            `a`, `b`, and `c` are provided. This overrides\n            `ternary<i>.sum` to normalize this specific trace, but\n            does not affect the values displayed on the axes. 0 (or\n            missing) means to use ternary<i>.sum\n        text\n            Sets text elements associated with each (a,b,c) point.\n            If a single string, the same string appears over all\n            the data points. If an array of strings, the items are\n            mapped in order to the the data points in (a,b,c). If\n            trace `hoverinfo` contains a \"text\" flag and\n            \"hovertext\" is not set, these elements will be seen in\n            the hover labels.\n        textfont\n            Sets the text font.\n        textposition\n            Sets the positions of the `text` elements with respects\n            to the (x,y) coordinates.\n        textpositionsrc\n            Sets the source reference on Chart Studio Cloud for\n            `textposition`.\n        textsrc\n            Sets the source reference on Chart Studio Cloud for\n            `text`.\n        texttemplate\n            Template string used for rendering the information text\n            that appear on points. Note that this will override\n            `textinfo`. Variables are inserted using %{variable},\n            for example \"y: %{y}\". Numbers are formatted using\n            d3-format's syntax %{variable:d3-format}, for example\n            \"Price: %{y:$.2f}\".\n            https://github.com/d3/d3-format/tree/v1.4.5#d3-format\n            for details on the formatting syntax. Dates are\n            formatted using d3-time-format's syntax\n            %{variable|d3-time-format}, for example \"Day:\n            %{2019-01-01|%A}\". https://github.com/d3/d3-time-\n            format/tree/v2.2.3#locale_format for details on the\n            date formatting syntax. Every attributes that can be\n            specified per-point (the ones that are `arrayOk: true`)\n            are available. variables `a`, `b`, `c` and `text`.\n        texttemplatesrc\n            Sets the source reference on Chart Studio Cloud for\n            `texttemplate`.\n        uid\n            Assign an id to this trace, Use this to provide object\n            constancy between traces during animations and\n            transitions.\n        uirevision\n            Controls persistence of some user-driven changes to the\n            trace: `constraintrange` in `parcoords` traces, as well\n            as some `editable: true` modifications such as `name`\n            and `colorbar.title`. Defaults to `layout.uirevision`.\n            Note that other user-driven trace attribute changes are\n            controlled by `layout` attributes: `trace.visible` is\n            controlled by `layout.legend.uirevision`,\n            `selectedpoints` is controlled by\n            `layout.selectionrevision`, and `colorbar.(x|y)`\n            (accessible with `config: {editable: true}`) is\n            controlled by `layout.editrevision`. Trace changes are\n            tracked by `uid`, which only falls back on trace index\n            if no `uid` is provided. So if your app can add/remove\n            traces before the end of the `data` array, such that\n            the same trace has a different index, you can still\n            preserve user-driven changes if you give each trace a\n            `uid` that stays with it as it moves.\n        unselected\n            :class:`plotly.graph_objects.scatterternary.Unselected`\n            instance or dict with compatible properties\n        visible\n            Determines whether or not this trace is visible. If\n            \"legendonly\", the trace is not drawn, but can appear as\n            a legend item (provided that the legend itself is\n            visible).\n        \nDid you mean \"cliponaxis\"?\n\nBad property path:\ncoloraxis\n^^^^^^^^^"
     ]
    }
   ],
   "source": [
    "fig.append_trace(\n",
    "    go.Scatterternary({\n",
    "    'mode': 'markers',\n",
    "    'a': DF['Glucose'],\n",
    "    'b': DF['Starch'],\n",
    "    'c': DF['Amylase'],\n",
    "    'marker': {\n",
    "        'symbol': 100,\n",
    "        'color': DF['AP1'],\n",
    "        'size': 4,\n",
    "        'line': { 'width': 2 }\n",
    "    }\n",
    "    ,\n",
    "    \"marker_symbol\":\"circle-open-dot\",\n",
    "        \n",
    "},coloraxis = \"coloraxis\"),1,1\n",
    ")\n",
    "fig.append_trace(\n",
    "    go.Scatterternary({\n",
    "    'mode': 'markers',\n",
    "    'a': DF['Glucose'],\n",
    "    'b': DF['Starch'],\n",
    "    'c': DF['Amylase'],\n",
    "    'marker': {\n",
    "        'symbol': 100,\n",
    "        'color': DF['AP2'],\n",
    "        'size': 4,\n",
    "        'line': { 'width': 2 }\n",
    "    },\n",
    "    \"marker_symbol\":\"circle-open-dot\"\n",
    "        \n",
    "}),1,2\n",
    ")\n",
    "fig.update_ternaries(aaxis_title='Glucose',\n",
    "                    baxis_title='Starch',\n",
    "                    caxis_title=\"Amylase\")\n",
    "fig.update_layout(showlegend=False)\n",
    "fig.show()\n"
   ]
  },
  {
   "cell_type": "code",
   "execution_count": 149,
   "id": "09a4ebd0",
   "metadata": {},
   "outputs": [],
   "source": [
    "fig.write_html(\"First_Trial.html\")"
   ]
  },
  {
   "cell_type": "code",
   "execution_count": 127,
   "id": "134f3cf4",
   "metadata": {},
   "outputs": [
    {
     "name": "stdout",
     "output_type": "stream",
     "text": [
      "Collecting kaleido\n",
      "  Downloading kaleido-0.2.1-py2.py3-none-win_amd64.whl (65.9 MB)\n",
      "Installing collected packages: kaleido\n",
      "Successfully installed kaleido-0.2.1\n"
     ]
    }
   ],
   "source": []
  },
  {
   "cell_type": "code",
   "execution_count": null,
   "id": "bd4273ae",
   "metadata": {},
   "outputs": [],
   "source": []
  }
 ],
 "metadata": {
  "kernelspec": {
   "display_name": "Python 3",
   "language": "python",
   "name": "python3"
  },
  "language_info": {
   "codemirror_mode": {
    "name": "ipython",
    "version": 3
   },
   "file_extension": ".py",
   "mimetype": "text/x-python",
   "name": "python",
   "nbconvert_exporter": "python",
   "pygments_lexer": "ipython3",
   "version": "3.8.8"
  }
 },
 "nbformat": 4,
 "nbformat_minor": 5
}
